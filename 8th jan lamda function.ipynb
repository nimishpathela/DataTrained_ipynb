{
 "cells": [
  {
   "cell_type": "code",
   "execution_count": 5,
   "id": "bde5835d",
   "metadata": {},
   "outputs": [],
   "source": [
    "#lambda syntax = reference variable= lambda variable: expression\n",
    "z=lambda x:x+2"
   ]
  },
  {
   "cell_type": "code",
   "execution_count": 6,
   "id": "761d2e6d",
   "metadata": {},
   "outputs": [
    {
     "data": {
      "text/plain": [
       "10"
      ]
     },
     "execution_count": 6,
     "metadata": {},
     "output_type": "execute_result"
    }
   ],
   "source": [
    "z(8)"
   ]
  },
  {
   "cell_type": "code",
   "execution_count": 9,
   "id": "e85b3505",
   "metadata": {},
   "outputs": [],
   "source": [
    "multivariable= lambda x,y:x/y"
   ]
  },
  {
   "cell_type": "code",
   "execution_count": 10,
   "id": "95e89086",
   "metadata": {},
   "outputs": [
    {
     "data": {
      "text/plain": [
       "2.5"
      ]
     },
     "execution_count": 10,
     "metadata": {},
     "output_type": "execute_result"
    }
   ],
   "source": [
    "multivariable(5,2)"
   ]
  },
  {
   "cell_type": "code",
   "execution_count": 12,
   "id": "2ac4ad84",
   "metadata": {},
   "outputs": [],
   "source": [
    "y=lambda x:(x**2)*3.14"
   ]
  },
  {
   "cell_type": "code",
   "execution_count": 13,
   "id": "a048f328",
   "metadata": {},
   "outputs": [
    {
     "data": {
      "text/plain": [
       "153.86"
      ]
     },
     "execution_count": 13,
     "metadata": {},
     "output_type": "execute_result"
    }
   ],
   "source": [
    "y(7)"
   ]
  },
  {
   "cell_type": "code",
   "execution_count": null,
   "id": "52fd3192",
   "metadata": {},
   "outputs": [],
   "source": []
  }
 ],
 "metadata": {
  "kernelspec": {
   "display_name": "Python 3 (ipykernel)",
   "language": "python",
   "name": "python3"
  },
  "language_info": {
   "codemirror_mode": {
    "name": "ipython",
    "version": 3
   },
   "file_extension": ".py",
   "mimetype": "text/x-python",
   "name": "python",
   "nbconvert_exporter": "python",
   "pygments_lexer": "ipython3",
   "version": "3.9.13"
  }
 },
 "nbformat": 4,
 "nbformat_minor": 5
}
