{
 "cells": [
  {
   "cell_type": "code",
   "execution_count": 4,
   "id": "47bc6205",
   "metadata": {},
   "outputs": [
    {
     "data": {
      "text/plain": [
       "1"
      ]
     },
     "execution_count": 4,
     "metadata": {},
     "output_type": "execute_result"
    }
   ],
   "source": [
    "# %-modulus operator is used to determine the remainder\n",
    "\n",
    "25%4"
   ]
  },
  {
   "cell_type": "code",
   "execution_count": 2,
   "id": "52af244d",
   "metadata": {},
   "outputs": [
    {
     "data": {
      "text/plain": [
       "6.25"
      ]
     },
     "execution_count": 2,
     "metadata": {},
     "output_type": "execute_result"
    }
   ],
   "source": [
    "25/4"
   ]
  },
  {
   "cell_type": "code",
   "execution_count": 26,
   "id": "86b2313c",
   "metadata": {},
   "outputs": [
    {
     "name": "stdout",
     "output_type": "stream",
     "text": [
      "2\n",
      "6\n",
      "8\n",
      "7\n",
      "9\n"
     ]
    }
   ],
   "source": [
    "for g in [2,6,8,4,7,9]:\n",
    "    if g==4  :\n",
    "        continue\n",
    "    print(g)"
   ]
  },
  {
   "cell_type": "markdown",
   "id": "4dc8a544",
   "metadata": {},
   "source": [
    "LIST COMPREHENSION\n"
   ]
  },
  {
   "cell_type": "code",
   "execution_count": 31,
   "id": "96f50d70",
   "metadata": {},
   "outputs": [],
   "source": [
    "n=[p for p in [1,2,3,3,4,5,6,7,8,9,10,11,12,13,14] if p%3==0 ] # which also means n= multiples of 3 in p"
   ]
  },
  {
   "cell_type": "code",
   "execution_count": 32,
   "id": "27819111",
   "metadata": {},
   "outputs": [
    {
     "data": {
      "text/plain": [
       "[3, 3, 6, 9, 12]"
      ]
     },
     "execution_count": 32,
     "metadata": {},
     "output_type": "execute_result"
    }
   ],
   "source": [
    "n"
   ]
  },
  {
   "cell_type": "code",
   "execution_count": 36,
   "id": "bb50afb7",
   "metadata": {},
   "outputs": [],
   "source": [
    "a='Nimish'"
   ]
  },
  {
   "cell_type": "code",
   "execution_count": 37,
   "id": "5bccafa8",
   "metadata": {},
   "outputs": [
    {
     "data": {
      "text/plain": [
       "False"
      ]
     },
     "execution_count": 37,
     "metadata": {},
     "output_type": "execute_result"
    }
   ],
   "source": [
    "a.isupper()"
   ]
  },
  {
   "cell_type": "code",
   "execution_count": 38,
   "id": "f121f0fa",
   "metadata": {},
   "outputs": [
    {
     "data": {
      "text/plain": [
       "False"
      ]
     },
     "execution_count": 38,
     "metadata": {},
     "output_type": "execute_result"
    }
   ],
   "source": [
    "a.islower()"
   ]
  },
  {
   "cell_type": "code",
   "execution_count": 39,
   "id": "3a20b600",
   "metadata": {},
   "outputs": [
    {
     "data": {
      "text/plain": [
       "True"
      ]
     },
     "execution_count": 39,
     "metadata": {},
     "output_type": "execute_result"
    }
   ],
   "source": [
    "a.istitle()"
   ]
  },
  {
   "cell_type": "code",
   "execution_count": 40,
   "id": "a1376cb3",
   "metadata": {},
   "outputs": [],
   "source": [
    "b='nimish is good boy'"
   ]
  },
  {
   "cell_type": "code",
   "execution_count": 42,
   "id": "f319ee5c",
   "metadata": {},
   "outputs": [
    {
     "data": {
      "text/plain": [
       "True"
      ]
     },
     "execution_count": 42,
     "metadata": {},
     "output_type": "execute_result"
    }
   ],
   "source": [
    "b.startswith('nimish') "
   ]
  },
  {
   "cell_type": "code",
   "execution_count": null,
   "id": "24351488",
   "metadata": {},
   "outputs": [],
   "source": []
  }
 ],
 "metadata": {
  "kernelspec": {
   "display_name": "Python 3 (ipykernel)",
   "language": "python",
   "name": "python3"
  },
  "language_info": {
   "codemirror_mode": {
    "name": "ipython",
    "version": 3
   },
   "file_extension": ".py",
   "mimetype": "text/x-python",
   "name": "python",
   "nbconvert_exporter": "python",
   "pygments_lexer": "ipython3",
   "version": "3.9.13"
  }
 },
 "nbformat": 4,
 "nbformat_minor": 5
}
