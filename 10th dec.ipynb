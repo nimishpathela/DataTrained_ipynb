{
 "cells": [
  {
   "cell_type": "code",
   "execution_count": 2,
   "id": "d2a7f952",
   "metadata": {},
   "outputs": [],
   "source": [
    "list1=['mercury','venus','earth','mars','saturn']"
   ]
  },
  {
   "cell_type": "code",
   "execution_count": 3,
   "id": "13a9c49b",
   "metadata": {},
   "outputs": [
    {
     "data": {
      "text/plain": [
       "['earth', 'mars', 'saturn']"
      ]
     },
     "execution_count": 3,
     "metadata": {},
     "output_type": "execute_result"
    }
   ],
   "source": [
    "list1[-3:]"
   ]
  },
  {
   "cell_type": "code",
   "execution_count": 5,
   "id": "247bdf54",
   "metadata": {},
   "outputs": [
    {
     "data": {
      "text/plain": [
       "[]"
      ]
     },
     "execution_count": 5,
     "metadata": {},
     "output_type": "execute_result"
    }
   ],
   "source": [
    "list1[-1:-1]"
   ]
  },
  {
   "cell_type": "code",
   "execution_count": 39,
   "id": "fae36e3d",
   "metadata": {},
   "outputs": [],
   "source": [
    "mango=['o','j','r','f','t','r']"
   ]
  },
  {
   "cell_type": "code",
   "execution_count": 7,
   "id": "0c6ad53b",
   "metadata": {},
   "outputs": [
    {
     "data": {
      "text/plain": [
       "['o', 'j', 'f', 't', 'r']"
      ]
     },
     "execution_count": 7,
     "metadata": {},
     "output_type": "execute_result"
    }
   ],
   "source": [
    "mango"
   ]
  },
  {
   "cell_type": "code",
   "execution_count": 10,
   "id": "e1a20325",
   "metadata": {},
   "outputs": [],
   "source": [
    "mango.sort()"
   ]
  },
  {
   "cell_type": "code",
   "execution_count": 11,
   "id": "1aec595c",
   "metadata": {},
   "outputs": [
    {
     "data": {
      "text/plain": [
       "['f', 'j', 'o', 'r', 't']"
      ]
     },
     "execution_count": 11,
     "metadata": {},
     "output_type": "execute_result"
    }
   ],
   "source": [
    "mango"
   ]
  },
  {
   "cell_type": "code",
   "execution_count": 12,
   "id": "46f52908",
   "metadata": {},
   "outputs": [
    {
     "data": {
      "text/plain": [
       "5"
      ]
     },
     "execution_count": 12,
     "metadata": {},
     "output_type": "execute_result"
    }
   ],
   "source": [
    "len(mango)"
   ]
  },
  {
   "cell_type": "code",
   "execution_count": 16,
   "id": "dcee728e",
   "metadata": {},
   "outputs": [],
   "source": [
    "mango.remove('j')"
   ]
  },
  {
   "cell_type": "code",
   "execution_count": 17,
   "id": "d8192bde",
   "metadata": {},
   "outputs": [
    {
     "data": {
      "text/plain": [
       "['f', 'o', 'r', 't']"
      ]
     },
     "execution_count": 17,
     "metadata": {},
     "output_type": "execute_result"
    }
   ],
   "source": [
    "mango"
   ]
  },
  {
   "cell_type": "code",
   "execution_count": 19,
   "id": "28593b24",
   "metadata": {},
   "outputs": [
    {
     "data": {
      "text/plain": [
       "'t'"
      ]
     },
     "execution_count": 19,
     "metadata": {},
     "output_type": "execute_result"
    }
   ],
   "source": [
    "mango.pop(-1)"
   ]
  },
  {
   "cell_type": "code",
   "execution_count": 20,
   "id": "eb229f59",
   "metadata": {},
   "outputs": [],
   "source": [
    "mango.append(4)"
   ]
  },
  {
   "cell_type": "code",
   "execution_count": 21,
   "id": "0b4d4fe9",
   "metadata": {},
   "outputs": [
    {
     "data": {
      "text/plain": [
       "['f', 'o', 'r', 4]"
      ]
     },
     "execution_count": 21,
     "metadata": {},
     "output_type": "execute_result"
    }
   ],
   "source": [
    "mango\n"
   ]
  },
  {
   "cell_type": "code",
   "execution_count": 23,
   "id": "39ed2903",
   "metadata": {},
   "outputs": [],
   "source": [
    "mango.append(6,)"
   ]
  },
  {
   "cell_type": "code",
   "execution_count": 24,
   "id": "6ed2c730",
   "metadata": {},
   "outputs": [
    {
     "data": {
      "text/plain": [
       "['f', 'o', 'r', 4, 6]"
      ]
     },
     "execution_count": 24,
     "metadata": {},
     "output_type": "execute_result"
    }
   ],
   "source": [
    "mango"
   ]
  },
  {
   "cell_type": "code",
   "execution_count": 27,
   "id": "1ad1c1eb",
   "metadata": {},
   "outputs": [],
   "source": [
    "mango.insert(8,2)"
   ]
  },
  {
   "cell_type": "code",
   "execution_count": 41,
   "id": "b24a4d6a",
   "metadata": {},
   "outputs": [
    {
     "data": {
      "text/plain": [
       "['o', 'j', 'r', 'f', 't', 'r']"
      ]
     },
     "execution_count": 41,
     "metadata": {},
     "output_type": "execute_result"
    }
   ],
   "source": [
    "mango"
   ]
  },
  {
   "cell_type": "code",
   "execution_count": 42,
   "id": "7e8bcf52",
   "metadata": {},
   "outputs": [
    {
     "data": {
      "text/plain": [
       "'r'"
      ]
     },
     "execution_count": 42,
     "metadata": {},
     "output_type": "execute_result"
    }
   ],
   "source": [
    "mango[-1]"
   ]
  },
  {
   "cell_type": "code",
   "execution_count": 43,
   "id": "3b85127c",
   "metadata": {},
   "outputs": [
    {
     "data": {
      "text/plain": [
       "2"
      ]
     },
     "execution_count": 43,
     "metadata": {},
     "output_type": "execute_result"
    }
   ],
   "source": [
    "mango.index('r')"
   ]
  },
  {
   "cell_type": "code",
   "execution_count": 47,
   "id": "2ab30d6f",
   "metadata": {},
   "outputs": [],
   "source": [
    "mango.insert(1,'r')"
   ]
  },
  {
   "cell_type": "code",
   "execution_count": 48,
   "id": "4adea34c",
   "metadata": {},
   "outputs": [
    {
     "data": {
      "text/plain": [
       "['o', 'r', 'j', 'f', 't', 'r']"
      ]
     },
     "execution_count": 48,
     "metadata": {},
     "output_type": "execute_result"
    }
   ],
   "source": [
    "mango"
   ]
  },
  {
   "cell_type": "code",
   "execution_count": 52,
   "id": "018cb2e8",
   "metadata": {},
   "outputs": [
    {
     "data": {
      "text/plain": [
       "1"
      ]
     },
     "execution_count": 52,
     "metadata": {},
     "output_type": "execute_result"
    }
   ],
   "source": [
    "mango.count('t')"
   ]
  },
  {
   "cell_type": "code",
   "execution_count": 2,
   "id": "57ec4116",
   "metadata": {},
   "outputs": [
    {
     "data": {
      "text/plain": [
       "['1', '3', '5', '4', '6']"
      ]
     },
     "execution_count": 2,
     "metadata": {},
     "output_type": "execute_result"
    }
   ],
   "source": [
    "list('13546')"
   ]
  },
  {
   "cell_type": "code",
   "execution_count": 3,
   "id": "514ff4a1",
   "metadata": {},
   "outputs": [
    {
     "data": {
      "text/plain": [
       "list"
      ]
     },
     "execution_count": 3,
     "metadata": {},
     "output_type": "execute_result"
    }
   ],
   "source": [
    "list"
   ]
  },
  {
   "cell_type": "code",
   "execution_count": 5,
   "id": "b175fd6a",
   "metadata": {},
   "outputs": [],
   "source": [
    "dict1={'a':'b', 'c':'d'}"
   ]
  },
  {
   "cell_type": "code",
   "execution_count": 7,
   "id": "3888b759",
   "metadata": {},
   "outputs": [
    {
     "data": {
      "text/plain": [
       "dict['a']"
      ]
     },
     "execution_count": 7,
     "metadata": {},
     "output_type": "execute_result"
    }
   ],
   "source": [
    "dict['a']"
   ]
  },
  {
   "cell_type": "code",
   "execution_count": 12,
   "id": "0a3b4459",
   "metadata": {},
   "outputs": [
    {
     "data": {
      "text/plain": [
       "str"
      ]
     },
     "execution_count": 12,
     "metadata": {},
     "output_type": "execute_result"
    }
   ],
   "source": [
    "type('dict')"
   ]
  },
  {
   "cell_type": "code",
   "execution_count": 10,
   "id": "bb4851a9",
   "metadata": {},
   "outputs": [
    {
     "data": {
      "text/plain": [
       "'b'"
      ]
     },
     "execution_count": 10,
     "metadata": {},
     "output_type": "execute_result"
    }
   ],
   "source": [
    "dict1['a']"
   ]
  },
  {
   "cell_type": "code",
   "execution_count": 19,
   "id": "b00ea446",
   "metadata": {},
   "outputs": [],
   "source": [
    "x=[4,2,3]"
   ]
  },
  {
   "cell_type": "code",
   "execution_count": 20,
   "id": "7fa64723",
   "metadata": {},
   "outputs": [
    {
     "data": {
      "text/plain": [
       "[4, 2, 3]"
      ]
     },
     "execution_count": 20,
     "metadata": {},
     "output_type": "execute_result"
    }
   ],
   "source": [
    "x"
   ]
  },
  {
   "cell_type": "code",
   "execution_count": 23,
   "id": "27c46620",
   "metadata": {},
   "outputs": [],
   "source": [
    "x.sort()"
   ]
  },
  {
   "cell_type": "code",
   "execution_count": 24,
   "id": "4df279dd",
   "metadata": {},
   "outputs": [
    {
     "data": {
      "text/plain": [
       "[2, 3, 4]"
      ]
     },
     "execution_count": 24,
     "metadata": {},
     "output_type": "execute_result"
    }
   ],
   "source": [
    "x"
   ]
  },
  {
   "cell_type": "code",
   "execution_count": 26,
   "id": "8940384c",
   "metadata": {},
   "outputs": [
    {
     "data": {
      "text/plain": [
       "('1', '2', '3', '5', '4', '6')"
      ]
     },
     "execution_count": 26,
     "metadata": {},
     "output_type": "execute_result"
    }
   ],
   "source": [
    "tuple('123546')"
   ]
  },
  {
   "cell_type": "code",
   "execution_count": 33,
   "id": "4ec35552",
   "metadata": {
    "scrolled": true
   },
   "outputs": [],
   "source": [
    "myset={341359}"
   ]
  },
  {
   "cell_type": "code",
   "execution_count": 31,
   "id": "4b28d829",
   "metadata": {},
   "outputs": [
    {
     "data": {
      "text/plain": [
       "{341359}"
      ]
     },
     "execution_count": 31,
     "metadata": {},
     "output_type": "execute_result"
    }
   ],
   "source": [
    "myset"
   ]
  },
  {
   "cell_type": "code",
   "execution_count": 39,
   "id": "270b7dff",
   "metadata": {},
   "outputs": [],
   "source": [
    "tuple=(8,6,1,5,7)"
   ]
  },
  {
   "cell_type": "code",
   "execution_count": 41,
   "id": "6bbb7286",
   "metadata": {},
   "outputs": [
    {
     "data": {
      "text/plain": [
       "(8, 6, 1, 5, 7)"
      ]
     },
     "execution_count": 41,
     "metadata": {},
     "output_type": "execute_result"
    }
   ],
   "source": [
    "tuple"
   ]
  },
  {
   "cell_type": "code",
   "execution_count": 42,
   "id": "765adf9e",
   "metadata": {},
   "outputs": [],
   "source": [
    "x=[4,2,3]"
   ]
  },
  {
   "cell_type": "code",
   "execution_count": 43,
   "id": "89723905",
   "metadata": {},
   "outputs": [
    {
     "data": {
      "text/plain": [
       "[4, 2, 3]"
      ]
     },
     "execution_count": 43,
     "metadata": {},
     "output_type": "execute_result"
    }
   ],
   "source": [
    "x"
   ]
  },
  {
   "cell_type": "code",
   "execution_count": 44,
   "id": "8ba06173",
   "metadata": {},
   "outputs": [
    {
     "data": {
      "text/plain": [
       "[4, 2, 3, 5]"
      ]
     },
     "execution_count": 44,
     "metadata": {},
     "output_type": "execute_result"
    }
   ],
   "source": [
    "x+[5]"
   ]
  },
  {
   "cell_type": "code",
   "execution_count": 47,
   "id": "57005457",
   "metadata": {},
   "outputs": [
    {
     "data": {
      "text/plain": [
       "3"
      ]
     },
     "execution_count": 47,
     "metadata": {},
     "output_type": "execute_result"
    }
   ],
   "source": [
    "x[2]"
   ]
  },
  {
   "cell_type": "code",
   "execution_count": 48,
   "id": "0d43d2ed",
   "metadata": {},
   "outputs": [],
   "source": [
    "x=[4,6]\n"
   ]
  },
  {
   "cell_type": "code",
   "execution_count": 49,
   "id": "c8bef2b2",
   "metadata": {},
   "outputs": [
    {
     "data": {
      "text/plain": [
       "[4, 6]"
      ]
     },
     "execution_count": 49,
     "metadata": {},
     "output_type": "execute_result"
    }
   ],
   "source": [
    "x"
   ]
  },
  {
   "cell_type": "code",
   "execution_count": 50,
   "id": "b2ce0e89",
   "metadata": {},
   "outputs": [],
   "source": [
    "x[0]=2"
   ]
  },
  {
   "cell_type": "code",
   "execution_count": 51,
   "id": "f41cfdfc",
   "metadata": {},
   "outputs": [
    {
     "data": {
      "text/plain": [
       "[2, 6]"
      ]
     },
     "execution_count": 51,
     "metadata": {},
     "output_type": "execute_result"
    }
   ],
   "source": [
    "x"
   ]
  },
  {
   "cell_type": "code",
   "execution_count": 52,
   "id": "d0805b3b",
   "metadata": {},
   "outputs": [
    {
     "data": {
      "text/plain": [
       "[2, 6, 5]"
      ]
     },
     "execution_count": 52,
     "metadata": {},
     "output_type": "execute_result"
    }
   ],
   "source": [
    "x+[5]"
   ]
  },
  {
   "cell_type": "code",
   "execution_count": 53,
   "id": "779d7e77",
   "metadata": {},
   "outputs": [
    {
     "data": {
      "text/plain": [
       "[2, 6]"
      ]
     },
     "execution_count": 53,
     "metadata": {},
     "output_type": "execute_result"
    }
   ],
   "source": [
    "x"
   ]
  },
  {
   "cell_type": "code",
   "execution_count": 54,
   "id": "c061c767",
   "metadata": {},
   "outputs": [],
   "source": [
    "x=x+[5]"
   ]
  },
  {
   "cell_type": "code",
   "execution_count": 55,
   "id": "7735f4af",
   "metadata": {},
   "outputs": [
    {
     "data": {
      "text/plain": [
       "[2, 6, 5]"
      ]
     },
     "execution_count": 55,
     "metadata": {},
     "output_type": "execute_result"
    }
   ],
   "source": [
    "x"
   ]
  },
  {
   "cell_type": "code",
   "execution_count": null,
   "id": "5adeb5cb",
   "metadata": {},
   "outputs": [],
   "source": []
  }
 ],
 "metadata": {
  "kernelspec": {
   "display_name": "Python 3 (ipykernel)",
   "language": "python",
   "name": "python3"
  },
  "language_info": {
   "codemirror_mode": {
    "name": "ipython",
    "version": 3
   },
   "file_extension": ".py",
   "mimetype": "text/x-python",
   "name": "python",
   "nbconvert_exporter": "python",
   "pygments_lexer": "ipython3",
   "version": "3.9.13"
  }
 },
 "nbformat": 4,
 "nbformat_minor": 5
}
