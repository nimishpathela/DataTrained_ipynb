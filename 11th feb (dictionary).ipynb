{
 "cells": [
  {
   "cell_type": "code",
   "execution_count": 35,
   "id": "ac871143",
   "metadata": {},
   "outputs": [
    {
     "ename": "NameError",
     "evalue": "name 'name' is not defined",
     "output_type": "error",
     "traceback": [
      "\u001b[1;31m---------------------------------------------------------------------------\u001b[0m",
      "\u001b[1;31mNameError\u001b[0m                                 Traceback (most recent call last)",
      "\u001b[1;32m~\\AppData\\Local\\Temp\\ipykernel_26032\\4077279432.py\u001b[0m in \u001b[0;36m<module>\u001b[1;34m\u001b[0m\n\u001b[1;32m----> 1\u001b[1;33m \u001b[0md1\u001b[0m\u001b[1;33m=\u001b[0m\u001b[1;33m{\u001b[0m\u001b[0mname\u001b[0m\u001b[1;33m:\u001b[0m\u001b[0mnimz\u001b[0m\u001b[1;33m,\u001b[0m \u001b[0mage\u001b[0m\u001b[1;33m:\u001b[0m\u001b[1;36m23\u001b[0m\u001b[1;33m}\u001b[0m\u001b[1;33m\u001b[0m\u001b[1;33m\u001b[0m\u001b[0m\n\u001b[0m",
      "\u001b[1;31mNameError\u001b[0m: name 'name' is not defined"
     ]
    }
   ],
   "source": [
    "d1={name:nimz, age:23}"
   ]
  },
  {
   "cell_type": "code",
   "execution_count": null,
   "id": "df81ed97",
   "metadata": {},
   "outputs": [],
   "source": [
    "d1={\"name\"='nimish'}"
   ]
  },
  {
   "cell_type": "code",
   "execution_count": null,
   "id": "70a901e3",
   "metadata": {},
   "outputs": [],
   "source": [
    "d1={'name':'nimish', 'age':23}"
   ]
  },
  {
   "cell_type": "code",
   "execution_count": 41,
   "id": "f391beef",
   "metadata": {},
   "outputs": [],
   "source": [
    "d1={'name':'nimish', 'age':23\n",
    "}"
   ]
  },
  {
   "cell_type": "code",
   "execution_count": null,
   "id": "a7bc83af",
   "metadata": {},
   "outputs": [],
   "source": [
    "d1{'name'}"
   ]
  },
  {
   "cell_type": "code",
   "execution_count": 36,
   "id": "ce2e5604",
   "metadata": {},
   "outputs": [
    {
     "data": {
      "text/plain": [
       "'nimish'"
      ]
     },
     "execution_count": 36,
     "metadata": {},
     "output_type": "execute_result"
    }
   ],
   "source": [
    "d1['name']"
   ]
  },
  {
   "cell_type": "code",
   "execution_count": 37,
   "id": "134af205",
   "metadata": {},
   "outputs": [],
   "source": [
    "d1['name']='nimish'"
   ]
  },
  {
   "cell_type": "code",
   "execution_count": 42,
   "id": "1a3e5584",
   "metadata": {},
   "outputs": [
    {
     "data": {
      "text/plain": [
       "{'name': 'nimish', 'age': 23}"
      ]
     },
     "execution_count": 42,
     "metadata": {},
     "output_type": "execute_result"
    }
   ],
   "source": [
    "d1"
   ]
  },
  {
   "cell_type": "code",
   "execution_count": 43,
   "id": "95b6e345",
   "metadata": {},
   "outputs": [],
   "source": [
    "d2={1:[2,3,4],5:[6,7,8]}"
   ]
  },
  {
   "cell_type": "code",
   "execution_count": 44,
   "id": "b38c7d86",
   "metadata": {},
   "outputs": [
    {
     "data": {
      "text/plain": [
       "{1: [2, 3, 4], 5: [6, 7, 8]}"
      ]
     },
     "execution_count": 44,
     "metadata": {},
     "output_type": "execute_result"
    }
   ],
   "source": [
    "d2"
   ]
  },
  {
   "cell_type": "code",
   "execution_count": 48,
   "id": "594db4c4",
   "metadata": {},
   "outputs": [
    {
     "data": {
      "text/plain": [
       "[6, 7, 8]"
      ]
     },
     "execution_count": 48,
     "metadata": {},
     "output_type": "execute_result"
    }
   ],
   "source": [
    "d2.pop(5)"
   ]
  },
  {
   "cell_type": "code",
   "execution_count": 49,
   "id": "519befff",
   "metadata": {},
   "outputs": [
    {
     "data": {
      "text/plain": [
       "{}"
      ]
     },
     "execution_count": 49,
     "metadata": {},
     "output_type": "execute_result"
    }
   ],
   "source": [
    "d2"
   ]
  },
  {
   "cell_type": "code",
   "execution_count": 50,
   "id": "3f84a268",
   "metadata": {},
   "outputs": [],
   "source": [
    "d2={1:[2,3,4],5:[6,7,8]}"
   ]
  },
  {
   "cell_type": "code",
   "execution_count": 51,
   "id": "7630ba2c",
   "metadata": {},
   "outputs": [],
   "source": [
    "d2.clear(d2={1:[2,3,4],5:[6,7,8]})d2={1:[2,3,4],5:[6,7,8]}"
   ]
  },
  {
   "cell_type": "code",
   "execution_count": 52,
   "id": "813d5583",
   "metadata": {},
   "outputs": [
    {
     "data": {
      "text/plain": [
       "{}"
      ]
     },
     "execution_count": 52,
     "metadata": {},
     "output_type": "execute_result"
    }
   ],
   "source": [
    "d2"
   ]
  },
  {
   "cell_type": "code",
   "execution_count": 53,
   "id": "421cc119",
   "metadata": {},
   "outputs": [],
   "source": [
    "d2={1:[2,3,4],5:[6,7,8]}"
   ]
  },
  {
   "cell_type": "code",
   "execution_count": 55,
   "id": "d81bd869",
   "metadata": {},
   "outputs": [],
   "source": [
    "d2.update({1:[9,10,11]})"
   ]
  },
  {
   "cell_type": "code",
   "execution_count": 56,
   "id": "6420371c",
   "metadata": {},
   "outputs": [
    {
     "data": {
      "text/plain": [
       "{1: [9, 10, 11], 5: [6, 7, 8]}"
      ]
     },
     "execution_count": 56,
     "metadata": {},
     "output_type": "execute_result"
    }
   ],
   "source": [
    "d2"
   ]
  },
  {
   "cell_type": "code",
   "execution_count": null,
   "id": "854dab45",
   "metadata": {},
   "outputs": [],
   "source": []
  }
 ],
 "metadata": {
  "kernelspec": {
   "display_name": "Python 3 (ipykernel)",
   "language": "python",
   "name": "python3"
  },
  "language_info": {
   "codemirror_mode": {
    "name": "ipython",
    "version": 3
   },
   "file_extension": ".py",
   "mimetype": "text/x-python",
   "name": "python",
   "nbconvert_exporter": "python",
   "pygments_lexer": "ipython3",
   "version": "3.9.13"
  }
 },
 "nbformat": 4,
 "nbformat_minor": 5
}
