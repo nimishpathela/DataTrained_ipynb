{
 "cells": [
  {
   "cell_type": "markdown",
   "id": "8eab9a92",
   "metadata": {},
   "source": [
    "# STRING PRINTING FORMAT"
   ]
  },
  {
   "cell_type": "markdown",
   "id": "78ed3126",
   "metadata": {},
   "source": [
    "% is used as an operator\n"
   ]
  },
  {
   "cell_type": "code",
   "execution_count": 7,
   "id": "56f2e48b",
   "metadata": {},
   "outputs": [
    {
     "name": "stdout",
     "output_type": "stream",
     "text": [
      "hi, my name is nimish\n"
     ]
    }
   ],
   "source": [
    "name= 'nimish'\n",
    "print ('hi, my name is %s'%name)"
   ]
  },
  {
   "cell_type": "code",
   "execution_count": 13,
   "id": "49fc2b7d",
   "metadata": {},
   "outputs": [
    {
     "name": "stdout",
     "output_type": "stream",
     "text": [
      "nimish is 23 years old and his salary is 20.000\n"
     ]
    }
   ],
   "source": [
    "name= 'nimish'\n",
    "age=23\n",
    "salary=20.000\n",
    "print('%s is %d years old and his salary is %0.3f'%(name,age,salary)) #0.3 is used to use decimal value upto 3 units"
   ]
  },
  {
   "cell_type": "markdown",
   "id": "b84bd845",
   "metadata": {},
   "source": [
    "## string format functions"
   ]
  },
  {
   "cell_type": "code",
   "execution_count": 16,
   "id": "90f6146b",
   "metadata": {},
   "outputs": [
    {
     "name": "stdout",
     "output_type": "stream",
     "text": [
      "my name is nimish and i am 23 years old\n"
     ]
    }
   ],
   "source": [
    "print('my name is {} and i am {} years old'.format('nimish',23))"
   ]
  },
  {
   "cell_type": "code",
   "execution_count": 17,
   "id": "8f10411e",
   "metadata": {},
   "outputs": [
    {
     "name": "stdout",
     "output_type": "stream",
     "text": [
      "my name is 23 and i am nimish years old\n"
     ]
    }
   ],
   "source": [
    "print('my name is {1} and i am {0} years old'.format('nimish',23))"
   ]
  },
  {
   "cell_type": "code",
   "execution_count": 18,
   "id": "b8b9beaf",
   "metadata": {},
   "outputs": [
    {
     "name": "stdout",
     "output_type": "stream",
     "text": [
      "my name is nimish and i am 23 years old\n"
     ]
    }
   ],
   "source": [
    "name='nimish'\n",
    "age=23\n",
    "print('my name is {} and i am {} years old'.format(name, age))"
   ]
  },
  {
   "cell_type": "code",
   "execution_count": null,
   "id": "1c4dc4f9",
   "metadata": {},
   "outputs": [
    {
     "name": "stdout",
     "output_type": "stream",
     "text": [
      "\n",
      "Welcome to Python 3.9's help utility!\n",
      "\n",
      "If this is your first time using Python, you should definitely check out\n",
      "the tutorial on the Internet at https://docs.python.org/3.9/tutorial/.\n",
      "\n",
      "Enter the name of any module, keyword, or topic to get help on writing\n",
      "Python programs and using Python modules.  To quit this help utility and\n",
      "return to the interpreter, just type \"quit\".\n",
      "\n",
      "To get a list of available modules, keywords, symbols, or topics, type\n",
      "\"modules\", \"keywords\", \"symbols\", or \"topics\".  Each module also comes\n",
      "with a one-line summary of what it does; to list the modules whose name\n",
      "or summary contain a given string such as \"spam\", type \"modules spam\".\n",
      "\n"
     ]
    }
   ],
   "source": [
    "help()"
   ]
  },
  {
   "cell_type": "code",
   "execution_count": null,
   "id": "afece685",
   "metadata": {},
   "outputs": [],
   "source": []
  }
 ],
 "metadata": {
  "kernelspec": {
   "display_name": "Python 3 (ipykernel)",
   "language": "python",
   "name": "python3"
  },
  "language_info": {
   "codemirror_mode": {
    "name": "ipython",
    "version": 3
   },
   "file_extension": ".py",
   "mimetype": "text/x-python",
   "name": "python",
   "nbconvert_exporter": "python",
   "pygments_lexer": "ipython3",
   "version": "3.9.13"
  }
 },
 "nbformat": 4,
 "nbformat_minor": 5
}
