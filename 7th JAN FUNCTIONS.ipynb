{
 "cells": [
  {
   "cell_type": "code",
   "execution_count": 51,
   "id": "5cc01a56",
   "metadata": {},
   "outputs": [],
   "source": [
    "#funtion defining\n",
    "\n",
    "def areaofrectangle():\n",
    "    length=int(input())\n",
    "    breadth=int(input())\n",
    "    area= length*breadth\n",
    "    print(\"area of rectangle=\",area)"
   ]
  },
  {
   "cell_type": "code",
   "execution_count": 52,
   "id": "542ba197",
   "metadata": {},
   "outputs": [
    {
     "name": "stdout",
     "output_type": "stream",
     "text": [
      "4\n",
      "5\n",
      "area of rectangle= 20\n"
     ]
    }
   ],
   "source": [
    "areaofrectangle()"
   ]
  },
  {
   "cell_type": "code",
   "execution_count": 27,
   "id": "1cf2e0b3",
   "metadata": {},
   "outputs": [],
   "source": [
    "def squareofanumber():\n",
    "    integer=int(input('enter any number'))\n",
    "    print(\"square of integer=\",integer*integer)"
   ]
  },
  {
   "cell_type": "code",
   "execution_count": 29,
   "id": "813e094c",
   "metadata": {},
   "outputs": [
    {
     "name": "stdout",
     "output_type": "stream",
     "text": [
      "enter any number8\n",
      "square of integer= 64\n"
     ]
    }
   ],
   "source": [
    "squareofanumber()"
   ]
  },
  {
   "cell_type": "markdown",
   "id": "6e46cd48",
   "metadata": {},
   "source": [
    "# parametric function\n"
   ]
  },
  {
   "cell_type": "code",
   "execution_count": 40,
   "id": "6347ed42",
   "metadata": {},
   "outputs": [],
   "source": [
    "def multfunction(a,b):\n",
    "    x=a*b\n",
    "    print('x=',x)"
   ]
  },
  {
   "cell_type": "code",
   "execution_count": 42,
   "id": "30d2b14d",
   "metadata": {},
   "outputs": [
    {
     "name": "stdout",
     "output_type": "stream",
     "text": [
      "x= 444\n"
     ]
    }
   ],
   "source": [
    "multfunction(74,6)"
   ]
  },
  {
   "cell_type": "markdown",
   "id": "aad51756",
   "metadata": {},
   "source": [
    "## variable number of arguments= we use '*'  "
   ]
  },
  {
   "cell_type": "code",
   "execution_count": 60,
   "id": "014178aa",
   "metadata": {},
   "outputs": [],
   "source": [
    "def multfun(*m):\n",
    "    print(sum(m))"
   ]
  },
  {
   "cell_type": "code",
   "execution_count": 61,
   "id": "4e9d28f7",
   "metadata": {},
   "outputs": [
    {
     "name": "stdout",
     "output_type": "stream",
     "text": [
      "12\n"
     ]
    }
   ],
   "source": [
    "multfun(4,6,2)"
   ]
  },
  {
   "cell_type": "code",
   "execution_count": 62,
   "id": "43f28620",
   "metadata": {},
   "outputs": [
    {
     "name": "stdout",
     "output_type": "stream",
     "text": [
      "8781721\n"
     ]
    }
   ],
   "source": [
    "multfun(88,65,34,8781534)"
   ]
  },
  {
   "cell_type": "code",
   "execution_count": null,
   "id": "b5d51c86",
   "metadata": {},
   "outputs": [],
   "source": []
  }
 ],
 "metadata": {
  "kernelspec": {
   "display_name": "Python 3 (ipykernel)",
   "language": "python",
   "name": "python3"
  },
  "language_info": {
   "codemirror_mode": {
    "name": "ipython",
    "version": 3
   },
   "file_extension": ".py",
   "mimetype": "text/x-python",
   "name": "python",
   "nbconvert_exporter": "python",
   "pygments_lexer": "ipython3",
   "version": "3.9.13"
  }
 },
 "nbformat": 4,
 "nbformat_minor": 5
}
