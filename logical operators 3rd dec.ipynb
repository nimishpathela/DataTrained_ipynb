{
 "cells": [
  {
   "cell_type": "code",
   "execution_count": 7,
   "id": "e243b9ed",
   "metadata": {
    "scrolled": true
   },
   "outputs": [
    {
     "name": "stdout",
     "output_type": "stream",
     "text": [
      "625\n"
     ]
    }
   ],
   "source": [
    "x=25\n",
    "\n",
    "y=25**2\n",
    "\n",
    "print (y)"
   ]
  },
  {
   "cell_type": "code",
   "execution_count": 9,
   "id": "75108d58",
   "metadata": {},
   "outputs": [
    {
     "data": {
      "text/plain": [
       "True"
      ]
     },
     "execution_count": 9,
     "metadata": {},
     "output_type": "execute_result"
    }
   ],
   "source": [
    "120==120"
   ]
  },
  {
   "cell_type": "code",
   "execution_count": 10,
   "id": "868e28f9",
   "metadata": {},
   "outputs": [
    {
     "data": {
      "text/plain": [
       "True"
      ]
     },
     "execution_count": 10,
     "metadata": {},
     "output_type": "execute_result"
    }
   ],
   "source": [
    "120!=110"
   ]
  },
  {
   "cell_type": "code",
   "execution_count": 13,
   "id": "feb40d87",
   "metadata": {},
   "outputs": [],
   "source": [
    "movie=234\n"
   ]
  },
  {
   "cell_type": "code",
   "execution_count": 14,
   "id": "88514996",
   "metadata": {},
   "outputs": [
    {
     "data": {
      "text/plain": [
       "234"
      ]
     },
     "execution_count": 14,
     "metadata": {},
     "output_type": "execute_result"
    }
   ],
   "source": [
    "movie"
   ]
  },
  {
   "cell_type": "code",
   "execution_count": 15,
   "id": "db6b7638",
   "metadata": {},
   "outputs": [
    {
     "name": "stdout",
     "output_type": "stream",
     "text": [
      "the square of 28 is 784\n"
     ]
    }
   ],
   "source": [
    "x=28\n",
    "y=28**2\n",
    "\n",
    "print('the square of 28 is',y)"
   ]
  },
  {
   "cell_type": "code",
   "execution_count": 19,
   "id": "6dc8c945",
   "metadata": {},
   "outputs": [
    {
     "name": "stdout",
     "output_type": "stream",
     "text": [
      "tell me if 80 is equal to 70? False\n"
     ]
    }
   ],
   "source": [
    "print('tell me if 80 is equal to 70?',80==70)"
   ]
  },
  {
   "cell_type": "code",
   "execution_count": null,
   "id": "0fa756b3",
   "metadata": {},
   "outputs": [],
   "source": []
  }
 ],
 "metadata": {
  "kernelspec": {
   "display_name": "Python 3 (ipykernel)",
   "language": "python",
   "name": "python3"
  },
  "language_info": {
   "codemirror_mode": {
    "name": "ipython",
    "version": 3
   },
   "file_extension": ".py",
   "mimetype": "text/x-python",
   "name": "python",
   "nbconvert_exporter": "python",
   "pygments_lexer": "ipython3",
   "version": "3.9.13"
  }
 },
 "nbformat": 4,
 "nbformat_minor": 5
}
