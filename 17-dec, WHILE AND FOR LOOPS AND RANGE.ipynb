{
 "cells": [
  {
   "cell_type": "code",
   "execution_count": 8,
   "id": "594a7dd2",
   "metadata": {},
   "outputs": [
    {
     "name": "stdout",
     "output_type": "stream",
     "text": [
      "Table of 7\n",
      "7 * 1 = 7\n",
      "7 * 2 = 14\n",
      "7 * 3 = 21\n",
      "7 * 4 = 28\n",
      "7 * 5 = 35\n",
      "7 * 6 = 42\n",
      "7 * 7 = 49\n",
      "7 * 8 = 56\n",
      "7 * 9 = 63\n",
      "7 * 10 = 70\n"
     ]
    }
   ],
   "source": [
    "print('Table of 7')\n",
    "i=1\n",
    "j=7\n",
    "while(i<=10):\n",
    "    print(j,'*',i,'=',i*j)\n",
    "    i=i+1"
   ]
  },
  {
   "cell_type": "code",
   "execution_count": 10,
   "id": "8e9e07d8",
   "metadata": {},
   "outputs": [
    {
     "name": "stdout",
     "output_type": "stream",
     "text": [
      "table of 955 till 20\n",
      "955* 1 = 955\n",
      "955* 2 = 1910\n",
      "955* 3 = 2865\n",
      "955* 4 = 3820\n",
      "955* 5 = 4775\n",
      "955* 6 = 5730\n",
      "955* 7 = 6685\n",
      "955* 8 = 7640\n",
      "955* 9 = 8595\n",
      "955* 10 = 9550\n",
      "955* 11 = 10505\n",
      "955* 12 = 11460\n",
      "955* 13 = 12415\n",
      "955* 14 = 13370\n",
      "955* 15 = 14325\n",
      "955* 16 = 15280\n",
      "955* 17 = 16235\n",
      "955* 18 = 17190\n",
      "955* 19 = 18145\n",
      "955* 20 = 19100\n"
     ]
    }
   ],
   "source": [
    "print('table of 955 till 20')\n",
    "i=1\n",
    "x=955\n",
    "while(i<=20):\n",
    "    print('955*',i,'=',i*x)\n",
    "    i=i+1\n"
   ]
  },
  {
   "cell_type": "code",
   "execution_count": 26,
   "id": "5c754699",
   "metadata": {},
   "outputs": [],
   "source": [
    "i=2\n",
    "j=[]\n",
    "while(i<8):\n",
    "    i=i+1\n",
    "    j.append(i)"
   ]
  },
  {
   "cell_type": "code",
   "execution_count": 27,
   "id": "374c35d2",
   "metadata": {},
   "outputs": [
    {
     "data": {
      "text/plain": [
       "[3, 4, 5, 6, 7, 8]"
      ]
     },
     "execution_count": 27,
     "metadata": {},
     "output_type": "execute_result"
    }
   ],
   "source": [
    "j"
   ]
  },
  {
   "cell_type": "code",
   "execution_count": 28,
   "id": "4455de8c",
   "metadata": {},
   "outputs": [
    {
     "name": "stdout",
     "output_type": "stream",
     "text": [
      "2\n",
      "5\n",
      "8.6\n",
      "9\n"
     ]
    }
   ],
   "source": [
    "for x in [2,5,8.6,9]:\n",
    "    print (x)"
   ]
  },
  {
   "cell_type": "code",
   "execution_count": 33,
   "id": "5f4910d7",
   "metadata": {},
   "outputs": [
    {
     "data": {
      "text/plain": [
       "range(0, 5)"
      ]
     },
     "execution_count": 33,
     "metadata": {},
     "output_type": "execute_result"
    }
   ],
   "source": [
    "range(5)"
   ]
  },
  {
   "cell_type": "code",
   "execution_count": 35,
   "id": "1f3120de",
   "metadata": {},
   "outputs": [
    {
     "data": {
      "text/plain": [
       "[1, 6]"
      ]
     },
     "execution_count": 35,
     "metadata": {},
     "output_type": "execute_result"
    }
   ],
   "source": [
    "list(range(1,10,5))"
   ]
  },
  {
   "cell_type": "code",
   "execution_count": 36,
   "id": "4e047d63",
   "metadata": {},
   "outputs": [
    {
     "name": "stdout",
     "output_type": "stream",
     "text": [
      "1\n",
      "4\n",
      "7\n",
      "10\n",
      "13\n",
      "16\n"
     ]
    }
   ],
   "source": [
    "for x in range(1,19,3):\n",
    "    print(x)"
   ]
  },
  {
   "cell_type": "code",
   "execution_count": 46,
   "id": "4ba81f97",
   "metadata": {},
   "outputs": [
    {
     "name": "stdout",
     "output_type": "stream",
     "text": [
      "1  4  7  10  13  16  "
     ]
    }
   ],
   "source": [
    "#to make the data print horizontal instead of vertical we use ' end=\" \" '\n",
    "#for eg-\n",
    "for x in range(1,19,3):\n",
    "    print(x , end=\"  \")"
   ]
  },
  {
   "cell_type": "code",
   "execution_count": 50,
   "id": "906a48f7",
   "metadata": {},
   "outputs": [
    {
     "name": "stdout",
     "output_type": "stream",
     "text": [
      "1 nimz 4 nimz 7 nimz 10 nimz 13 nimz 16 nimz "
     ]
    }
   ],
   "source": [
    "#we can put anything while using end \n",
    "for x in range(1,19,3):\n",
    "    print(x , end=\" nimz \")\n",
    "    "
   ]
  },
  {
   "cell_type": "code",
   "execution_count": 51,
   "id": "706d29ed",
   "metadata": {},
   "outputs": [
    {
     "name": "stdout",
     "output_type": "stream",
     "text": [
      "1nimz4nimz7nimz10nimz13nimz16nimz"
     ]
    }
   ],
   "source": [
    "for x in range(1,19,3):\n",
    "    print(x , end=\"nimz\")"
   ]
  },
  {
   "cell_type": "code",
   "execution_count": 52,
   "id": "91196335",
   "metadata": {},
   "outputs": [
    {
     "data": {
      "text/plain": [
       "[0, 2, 4, 6]"
      ]
     },
     "execution_count": 52,
     "metadata": {},
     "output_type": "execute_result"
    }
   ],
   "source": [
    "list(range(0,8,2))"
   ]
  },
  {
   "cell_type": "code",
   "execution_count": null,
   "id": "515f3911",
   "metadata": {},
   "outputs": [],
   "source": []
  }
 ],
 "metadata": {
  "kernelspec": {
   "display_name": "Python 3 (ipykernel)",
   "language": "python",
   "name": "python3"
  },
  "language_info": {
   "codemirror_mode": {
    "name": "ipython",
    "version": 3
   },
   "file_extension": ".py",
   "mimetype": "text/x-python",
   "name": "python",
   "nbconvert_exporter": "python",
   "pygments_lexer": "ipython3",
   "version": "3.9.13"
  }
 },
 "nbformat": 4,
 "nbformat_minor": 5
}
