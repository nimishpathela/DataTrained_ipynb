{
 "cells": [
  {
   "cell_type": "code",
   "execution_count": 1,
   "id": "04e9ba8b",
   "metadata": {},
   "outputs": [],
   "source": [
    "width=15\n"
   ]
  },
  {
   "cell_type": "code",
   "execution_count": 2,
   "id": "136db22b",
   "metadata": {},
   "outputs": [],
   "source": [
    "height=25"
   ]
  },
  {
   "cell_type": "code",
   "execution_count": 3,
   "id": "d0957ff7",
   "metadata": {},
   "outputs": [
    {
     "name": "stdout",
     "output_type": "stream",
     "text": [
      "width\n"
     ]
    }
   ],
   "source": [
    "print('width')"
   ]
  },
  {
   "cell_type": "code",
   "execution_count": 4,
   "id": "9382afaf",
   "metadata": {},
   "outputs": [
    {
     "name": "stdout",
     "output_type": "stream",
     "text": [
      "15\n"
     ]
    }
   ],
   "source": [
    "print(width)"
   ]
  },
  {
   "cell_type": "code",
   "execution_count": 9,
   "id": "8068d495",
   "metadata": {},
   "outputs": [
    {
     "name": "stdout",
     "output_type": "stream",
     "text": [
      "width= 15\n"
     ]
    }
   ],
   "source": [
    "print('width=' ,width)"
   ]
  },
  {
   "cell_type": "code",
   "execution_count": 12,
   "id": "d961efda",
   "metadata": {},
   "outputs": [
    {
     "name": "stdout",
     "output_type": "stream",
     "text": [
      "width= 15\n"
     ]
    }
   ],
   "source": [
    "print(\"width=\",width)"
   ]
  },
  {
   "cell_type": "code",
   "execution_count": 13,
   "id": "4209d997",
   "metadata": {},
   "outputs": [
    {
     "name": "stdout",
     "output_type": "stream",
     "text": [
      "the area of rectangle= 375\n"
     ]
    }
   ],
   "source": [
    "print('the area of rectangle=',width*height)"
   ]
  },
  {
   "cell_type": "code",
   "execution_count": 14,
   "id": "67a8817c",
   "metadata": {},
   "outputs": [],
   "source": [
    "tax=125/10"
   ]
  },
  {
   "cell_type": "code",
   "execution_count": 15,
   "id": "55b540eb",
   "metadata": {},
   "outputs": [],
   "source": [
    "price=153.783"
   ]
  },
  {
   "cell_type": "code",
   "execution_count": 17,
   "id": "78513004",
   "metadata": {},
   "outputs": [
    {
     "name": "stdout",
     "output_type": "stream",
     "text": [
      "the tax given by a consumer is = 1922.2875\n"
     ]
    }
   ],
   "source": [
    "print('the tax given by a consumer is =',price*tax)"
   ]
  },
  {
   "cell_type": "code",
   "execution_count": 18,
   "id": "219f3a36",
   "metadata": {},
   "outputs": [
    {
     "data": {
      "text/plain": [
       "'thesun'"
      ]
     },
     "execution_count": 18,
     "metadata": {},
     "output_type": "execute_result"
    }
   ],
   "source": [
    "\"the\"+\"sun\""
   ]
  },
  {
   "cell_type": "code",
   "execution_count": 21,
   "id": "7fd0913b",
   "metadata": {},
   "outputs": [],
   "source": [
    "x= \"nimish\""
   ]
  },
  {
   "cell_type": "code",
   "execution_count": 25,
   "id": "209147e0",
   "metadata": {},
   "outputs": [],
   "source": [
    "y= \"pathela\""
   ]
  },
  {
   "cell_type": "code",
   "execution_count": 26,
   "id": "4086e37c",
   "metadata": {},
   "outputs": [
    {
     "data": {
      "text/plain": [
       "'nimishpathela'"
      ]
     },
     "execution_count": 26,
     "metadata": {},
     "output_type": "execute_result"
    }
   ],
   "source": [
    "x+y"
   ]
  },
  {
   "cell_type": "code",
   "execution_count": 32,
   "id": "7618a34b",
   "metadata": {},
   "outputs": [
    {
     "data": {
      "text/plain": [
       "'nimish pathela'"
      ]
     },
     "execution_count": 32,
     "metadata": {},
     "output_type": "execute_result"
    }
   ],
   "source": [
    "x+' '+y"
   ]
  },
  {
   "cell_type": "code",
   "execution_count": 33,
   "id": "3463dc14",
   "metadata": {},
   "outputs": [
    {
     "name": "stdout",
     "output_type": "stream",
     "text": [
      "nimish pathela\n"
     ]
    }
   ],
   "source": [
    "print(x+\" \"+y)"
   ]
  },
  {
   "cell_type": "code",
   "execution_count": 61,
   "id": "07198538",
   "metadata": {},
   "outputs": [
    {
     "name": "stdout",
     "output_type": "stream",
     "text": [
      "51\n"
     ]
    }
   ],
   "source": [
    "num=input(5)"
   ]
  },
  {
   "cell_type": "code",
   "execution_count": 25,
   "id": "4e0a2381",
   "metadata": {},
   "outputs": [],
   "source": [
    "y= \"pathela\""
   ]
  },
  {
   "cell_type": "code",
   "execution_count": 38,
   "id": "66525e5e",
   "metadata": {},
   "outputs": [],
   "source": [
    "x= \"nimish\""
   ]
  },
  {
   "cell_type": "code",
   "execution_count": 58,
   "id": "32fcf29b",
   "metadata": {},
   "outputs": [
    {
     "name": "stdout",
     "output_type": "stream",
     "text": [
      "10\n"
     ]
    }
   ],
   "source": [
    "num1=input()"
   ]
  },
  {
   "cell_type": "code",
   "execution_count": 68,
   "id": "432e8448",
   "metadata": {},
   "outputs": [],
   "source": [
    "doubled_num =num1*3\n"
   ]
  },
  {
   "cell_type": "code",
   "execution_count": 69,
   "id": "8371b127",
   "metadata": {},
   "outputs": [
    {
     "data": {
      "text/plain": [
       "'101010'"
      ]
     },
     "execution_count": 69,
     "metadata": {},
     "output_type": "execute_result"
    }
   ],
   "source": [
    "doubled_num"
   ]
  },
  {
   "cell_type": "code",
   "execution_count": 86,
   "id": "6f945288",
   "metadata": {},
   "outputs": [
    {
     "name": "stdout",
     "output_type": "stream",
     "text": [
      "2\n"
     ]
    }
   ],
   "source": [
    "x=int(input())"
   ]
  },
  {
   "cell_type": "code",
   "execution_count": 87,
   "id": "2864c610",
   "metadata": {},
   "outputs": [
    {
     "name": "stdout",
     "output_type": "stream",
     "text": [
      "4\n"
     ]
    }
   ],
   "source": [
    "y=int(input())"
   ]
  },
  {
   "cell_type": "code",
   "execution_count": 88,
   "id": "08056d4d",
   "metadata": {},
   "outputs": [
    {
     "data": {
      "text/plain": [
       "8"
      ]
     },
     "execution_count": 88,
     "metadata": {},
     "output_type": "execute_result"
    }
   ],
   "source": [
    "x*y"
   ]
  },
  {
   "cell_type": "code",
   "execution_count": 89,
   "id": "fc992950",
   "metadata": {},
   "outputs": [],
   "source": [
    "p=20000"
   ]
  },
  {
   "cell_type": "code",
   "execution_count": 91,
   "id": "fb643f63",
   "metadata": {},
   "outputs": [],
   "source": [
    "r=5/100"
   ]
  },
  {
   "cell_type": "code",
   "execution_count": 92,
   "id": "c0047139",
   "metadata": {},
   "outputs": [],
   "source": [
    "t=2"
   ]
  },
  {
   "cell_type": "code",
   "execution_count": 93,
   "id": "2b6954dc",
   "metadata": {},
   "outputs": [
    {
     "name": "stdout",
     "output_type": "stream",
     "text": [
      "simple interest = P*r*t = 2000.0\n"
     ]
    }
   ],
   "source": [
    "print('simple interest = P*r*t =',p*r*t)"
   ]
  },
  {
   "cell_type": "code",
   "execution_count": 100,
   "id": "32b1ae73",
   "metadata": {},
   "outputs": [],
   "source": [
    "f='mclkvmzlkvzmfwfmvMakf'"
   ]
  },
  {
   "cell_type": "code",
   "execution_count": 101,
   "id": "423bde24",
   "metadata": {},
   "outputs": [
    {
     "data": {
      "text/plain": [
       "21"
      ]
     },
     "execution_count": 101,
     "metadata": {},
     "output_type": "execute_result"
    }
   ],
   "source": [
    "len(f)"
   ]
  },
  {
   "cell_type": "code",
   "execution_count": 122,
   "id": "4cf7bba4",
   "metadata": {},
   "outputs": [],
   "source": [
    "cost_of_the_company ='c'"
   ]
  },
  {
   "cell_type": "code",
   "execution_count": 123,
   "id": "ef4ee6a9",
   "metadata": {},
   "outputs": [
    {
     "data": {
      "text/plain": [
       "5000"
      ]
     },
     "execution_count": 123,
     "metadata": {},
     "output_type": "execute_result"
    }
   ],
   "source": [
    "c"
   ]
  },
  {
   "cell_type": "code",
   "execution_count": 124,
   "id": "3ca779ee",
   "metadata": {},
   "outputs": [
    {
     "data": {
      "text/plain": [
       "'c'"
      ]
     },
     "execution_count": 124,
     "metadata": {},
     "output_type": "execute_result"
    }
   ],
   "source": [
    "cost_of_the_company"
   ]
  },
  {
   "cell_type": "code",
   "execution_count": 126,
   "id": "264558ca",
   "metadata": {},
   "outputs": [],
   "source": [
    "price_per_ticket='p'\n",
    "p=200\n",
    "number_of_passengers= 'n'\n",
    "n=29\n",
    "revenue_of_the_company = 'r'\n",
    "r=p*n"
   ]
  },
  {
   "cell_type": "code",
   "execution_count": 127,
   "id": "544a6704",
   "metadata": {},
   "outputs": [
    {
     "data": {
      "text/plain": [
       "5800"
      ]
     },
     "execution_count": 127,
     "metadata": {},
     "output_type": "execute_result"
    }
   ],
   "source": [
    "r"
   ]
  },
  {
   "cell_type": "code",
   "execution_count": 129,
   "id": "e4b4974f",
   "metadata": {},
   "outputs": [],
   "source": [
    "profit='pi'\n",
    "pi=r-c"
   ]
  },
  {
   "cell_type": "code",
   "execution_count": 130,
   "id": "3e05056d",
   "metadata": {},
   "outputs": [
    {
     "data": {
      "text/plain": [
       "800"
      ]
     },
     "execution_count": 130,
     "metadata": {},
     "output_type": "execute_result"
    }
   ],
   "source": [
    "pi"
   ]
  },
  {
   "cell_type": "code",
   "execution_count": null,
   "id": "091a953a",
   "metadata": {},
   "outputs": [],
   "source": []
  }
 ],
 "metadata": {
  "kernelspec": {
   "display_name": "Python 3 (ipykernel)",
   "language": "python",
   "name": "python3"
  },
  "language_info": {
   "codemirror_mode": {
    "name": "ipython",
    "version": 3
   },
   "file_extension": ".py",
   "mimetype": "text/x-python",
   "name": "python",
   "nbconvert_exporter": "python",
   "pygments_lexer": "ipython3",
   "version": "3.9.13"
  }
 },
 "nbformat": 4,
 "nbformat_minor": 5
}
