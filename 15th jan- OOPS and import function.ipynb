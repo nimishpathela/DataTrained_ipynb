{
 "cells": [
  {
   "cell_type": "code",
   "execution_count": 23,
   "id": "ce6c0466",
   "metadata": {},
   "outputs": [],
   "source": [
    "class famember:\n",
    "    surname=\"Pathela\"\n",
    "    def __init__(self,mname,mage,mgender): \n",
    "        self.mname=mname\n",
    "        self.mage=mage\n",
    "        self.mgender=mgender\n",
    "    \n",
    "    def display(self):\n",
    "        print ('Member name=',self.mname,\"mage=\",self.mage,\"mgender=\",self.mgender, \"surname=\",self.surname)"
   ]
  },
  {
   "cell_type": "code",
   "execution_count": 25,
   "id": "1df0d57c",
   "metadata": {},
   "outputs": [],
   "source": [
    "f1=famember(\"rajeev\",54,\"M\")"
   ]
  },
  {
   "cell_type": "code",
   "execution_count": 26,
   "id": "d8f2699e",
   "metadata": {},
   "outputs": [
    {
     "name": "stdout",
     "output_type": "stream",
     "text": [
      "Member name= rajeev mage= 54 mgender= M surname= Pathela\n"
     ]
    }
   ],
   "source": [
    "f1.display()"
   ]
  },
  {
   "cell_type": "code",
   "execution_count": 27,
   "id": "c854addf",
   "metadata": {},
   "outputs": [
    {
     "data": {
      "text/plain": [
       "'Pathela'"
      ]
     },
     "execution_count": 27,
     "metadata": {},
     "output_type": "execute_result"
    }
   ],
   "source": [
    "famember.surname"
   ]
  },
  {
   "cell_type": "code",
   "execution_count": null,
   "id": "77c4214e",
   "metadata": {},
   "outputs": [],
   "source": []
  },
  {
   "cell_type": "code",
   "execution_count": 32,
   "id": "cb214944",
   "metadata": {},
   "outputs": [],
   "source": [
    "class famember:\n",
    "    surname=\"Pathela\" #class variable\n",
    "    def __init__(self,mname,mage,mgender): \n",
    "        self.mname=mname   #instance var\n",
    "        self.mage=mage     #instance var\n",
    "        self.mgender=mgender #instance var\n",
    "    \n",
    "    def display(self):\n",
    "        print ('Member name=',self.mname,\"mage=\",self.mage,\"mgender=\",self.mgender, \"surname=\",self.surname)"
   ]
  },
  {
   "cell_type": "code",
   "execution_count": 33,
   "id": "8df42366",
   "metadata": {},
   "outputs": [],
   "source": [
    "f2=famember(\"sarika\",45,'F')"
   ]
  },
  {
   "cell_type": "code",
   "execution_count": 34,
   "id": "805e57a7",
   "metadata": {},
   "outputs": [
    {
     "name": "stdout",
     "output_type": "stream",
     "text": [
      "Member name= sarika mage= 45 mgender= F surname= Pathela\n"
     ]
    }
   ],
   "source": [
    "f2.display()"
   ]
  },
  {
   "cell_type": "code",
   "execution_count": 1,
   "id": "db12c104",
   "metadata": {},
   "outputs": [
    {
     "ename": "NameError",
     "evalue": "name 'sys' is not defined",
     "output_type": "error",
     "traceback": [
      "\u001b[1;31m---------------------------------------------------------------------------\u001b[0m",
      "\u001b[1;31mNameError\u001b[0m                                 Traceback (most recent call last)",
      "\u001b[1;32m~\\AppData\\Local\\Temp\\ipykernel_11800\\3374087864.py\u001b[0m in \u001b[0;36m<module>\u001b[1;34m\u001b[0m\n\u001b[1;32m----> 1\u001b[1;33m \u001b[0msys\u001b[0m\u001b[1;33m.\u001b[0m\u001b[0mpath\u001b[0m\u001b[1;33m\u001b[0m\u001b[1;33m\u001b[0m\u001b[0m\n\u001b[0m",
      "\u001b[1;31mNameError\u001b[0m: name 'sys' is not defined"
     ]
    }
   ],
   "source": [
    "sys.path"
   ]
  },
  {
   "cell_type": "code",
   "execution_count": 2,
   "id": "122ce63c",
   "metadata": {},
   "outputs": [],
   "source": [
    "import sys"
   ]
  },
  {
   "cell_type": "code",
   "execution_count": 3,
   "id": "82a10ed6",
   "metadata": {},
   "outputs": [
    {
     "data": {
      "text/plain": [
       "['C:\\\\Users\\\\bkasri',\n",
       " 'C:\\\\Users\\\\bkasri\\\\anaconda3\\\\python39.zip',\n",
       " 'C:\\\\Users\\\\bkasri\\\\anaconda3\\\\DLLs',\n",
       " 'C:\\\\Users\\\\bkasri\\\\anaconda3\\\\lib',\n",
       " 'C:\\\\Users\\\\bkasri\\\\anaconda3',\n",
       " '',\n",
       " 'C:\\\\Users\\\\bkasri\\\\anaconda3\\\\lib\\\\site-packages',\n",
       " 'C:\\\\Users\\\\bkasri\\\\anaconda3\\\\lib\\\\site-packages\\\\win32',\n",
       " 'C:\\\\Users\\\\bkasri\\\\anaconda3\\\\lib\\\\site-packages\\\\win32\\\\lib',\n",
       " 'C:\\\\Users\\\\bkasri\\\\anaconda3\\\\lib\\\\site-packages\\\\Pythonwin',\n",
       " 'C:\\\\Users\\\\bkasri\\\\anaconda3\\\\lib\\\\site-packages\\\\IPython\\\\extensions',\n",
       " 'C:\\\\Users\\\\bkasri\\\\.ipython']"
      ]
     },
     "execution_count": 3,
     "metadata": {},
     "output_type": "execute_result"
    }
   ],
   "source": [
    "sys.path"
   ]
  },
  {
   "cell_type": "code",
   "execution_count": 4,
   "id": "d7363d24",
   "metadata": {},
   "outputs": [],
   "source": [
    "import os"
   ]
  },
  {
   "cell_type": "code",
   "execution_count": 9,
   "id": "ec5d383a",
   "metadata": {},
   "outputs": [
    {
     "data": {
      "text/plain": [
       "<module 'ntpath' from 'C:\\\\Users\\\\bkasri\\\\anaconda3\\\\lib\\\\ntpath.py'>"
      ]
     },
     "execution_count": 9,
     "metadata": {},
     "output_type": "execute_result"
    }
   ],
   "source": [
    "os.path"
   ]
  },
  {
   "cell_type": "code",
   "execution_count": 6,
   "id": "4583e6b4",
   "metadata": {},
   "outputs": [
    {
     "data": {
      "text/plain": [
       "<function nt.getcwd()>"
      ]
     },
     "execution_count": 6,
     "metadata": {},
     "output_type": "execute_result"
    }
   ],
   "source": [
    "os.getcwd"
   ]
  },
  {
   "cell_type": "code",
   "execution_count": 11,
   "id": "b8bf1090",
   "metadata": {},
   "outputs": [
    {
     "data": {
      "text/plain": [
       "'C:\\\\Users\\\\bkasri'"
      ]
     },
     "execution_count": 11,
     "metadata": {},
     "output_type": "execute_result"
    }
   ],
   "source": [
    "os.getcwd()"
   ]
  },
  {
   "cell_type": "code",
   "execution_count": 13,
   "id": "c28e1dac",
   "metadata": {},
   "outputs": [
    {
     "data": {
      "text/plain": [
       "['+ - operators.ipynb',\n",
       " '.AnyTo',\n",
       " '.cache',\n",
       " '.conda',\n",
       " '.condarc',\n",
       " '.continuum',\n",
       " '.ipynb_checkpoints',\n",
       " '.ipython',\n",
       " '.jupyter',\n",
       " '.ms-ad',\n",
       " '.openshot_qt',\n",
       " '.QtWebEngineProcess',\n",
       " '10th dec.ipynb',\n",
       " '11th feb (dictionary).ipynb',\n",
       " '14th jan mapping,filter of lambda.ipynb',\n",
       " '15th jan- OOPS.ipynb',\n",
       " '17-dec, WHILE AND FOR LOOPS AND RANGE.ipynb',\n",
       " '18th dec- IF - ELSE, BREAK - CONTINUE.ipynb',\n",
       " '24th dec- string printing format.ipynb',\n",
       " '3D Objects',\n",
       " '4th dec.ipynb',\n",
       " '7th JAN FUNCTIONS.ipynb',\n",
       " '8th jan lamda function.ipynb',\n",
       " 'anaconda3',\n",
       " 'AppData',\n",
       " 'Apple',\n",
       " 'Application Data',\n",
       " 'BITB76A.tmp',\n",
       " 'Contacts',\n",
       " 'Cookies',\n",
       " 'Desktop',\n",
       " 'DICTIONARY, SETS AND  LOOPS.ipynb',\n",
       " 'Documents',\n",
       " 'Downloads',\n",
       " 'Dropbox',\n",
       " 'Favorites',\n",
       " 'Google Drive',\n",
       " 'HP',\n",
       " 'iCloudDrive',\n",
       " 'IntelGraphicsProfiles',\n",
       " 'Links',\n",
       " 'Local Settings',\n",
       " 'logical operators 3rd dec.ipynb',\n",
       " 'MicrosoftEdgeBackups',\n",
       " 'Music',\n",
       " 'My Documents',\n",
       " 'NetHood',\n",
       " 'NTUSER.DAT',\n",
       " 'ntuser.dat.LOG1',\n",
       " 'ntuser.dat.LOG2',\n",
       " 'NTUSER.DAT{234edf59-1791-11eb-9477-e897316ad5ba}.TxR.0.regtrans-ms',\n",
       " 'NTUSER.DAT{234edf59-1791-11eb-9477-e897316ad5ba}.TxR.1.regtrans-ms',\n",
       " 'NTUSER.DAT{234edf59-1791-11eb-9477-e897316ad5ba}.TxR.2.regtrans-ms',\n",
       " 'NTUSER.DAT{234edf59-1791-11eb-9477-e897316ad5ba}.TxR.blf',\n",
       " 'NTUSER.DAT{234edf5a-1791-11eb-9477-e897316ad5ba}.TM.blf',\n",
       " 'NTUSER.DAT{234edf5a-1791-11eb-9477-e897316ad5ba}.TMContainer00000000000000000001.regtrans-ms',\n",
       " 'NTUSER.DAT{234edf5a-1791-11eb-9477-e897316ad5ba}.TMContainer00000000000000000002.regtrans-ms',\n",
       " 'NTUSER.DAT{99587827-ccdd-11eb-94b7-3ca067dc452a}.TxR.0.regtrans-ms',\n",
       " 'NTUSER.DAT{99587827-ccdd-11eb-94b7-3ca067dc452a}.TxR.1.regtrans-ms',\n",
       " 'NTUSER.DAT{99587827-ccdd-11eb-94b7-3ca067dc452a}.TxR.2.regtrans-ms',\n",
       " 'NTUSER.DAT{99587827-ccdd-11eb-94b7-3ca067dc452a}.TxR.blf',\n",
       " 'NTUSER.DAT{99587828-ccdd-11eb-94b7-3ca067dc452a}.TM.blf',\n",
       " 'NTUSER.DAT{99587828-ccdd-11eb-94b7-3ca067dc452a}.TMContainer00000000000000000001.regtrans-ms',\n",
       " 'NTUSER.DAT{99587828-ccdd-11eb-94b7-3ca067dc452a}.TMContainer00000000000000000002.regtrans-ms',\n",
       " 'ntuser.ini',\n",
       " 'OneDrive',\n",
       " 'Pictures',\n",
       " 'practice functionx.ipynb',\n",
       " 'practice repository 1.ipynb',\n",
       " 'PrintHood',\n",
       " 'Recent',\n",
       " 'Saved Games',\n",
       " 'ScStore',\n",
       " 'Searches',\n",
       " 'SendTo',\n",
       " 'Start Menu',\n",
       " 'Templates',\n",
       " 'Untitled.ipynb',\n",
       " 'Untitled4.ipynb',\n",
       " 'Untitled5.ipynb',\n",
       " 'Untitled6.ipynb',\n",
       " 'Videos',\n",
       " 'wine facial kit.mp4']"
      ]
     },
     "execution_count": 13,
     "metadata": {},
     "output_type": "execute_result"
    }
   ],
   "source": [
    "os.listdir()"
   ]
  },
  {
   "cell_type": "code",
   "execution_count": 14,
   "id": "350485d4",
   "metadata": {},
   "outputs": [],
   "source": [
    "import math"
   ]
  },
  {
   "cell_type": "code",
   "execution_count": 16,
   "id": "80b8b451",
   "metadata": {},
   "outputs": [
    {
     "data": {
      "text/plain": [
       "3.141592653589793"
      ]
     },
     "execution_count": 16,
     "metadata": {},
     "output_type": "execute_result"
    }
   ],
   "source": [
    "math.pi"
   ]
  },
  {
   "cell_type": "code",
   "execution_count": 17,
   "id": "9d39daa4",
   "metadata": {},
   "outputs": [
    {
     "data": {
      "text/plain": [
       "65536.0"
      ]
     },
     "execution_count": 17,
     "metadata": {},
     "output_type": "execute_result"
    }
   ],
   "source": [
    "math.pow(4,8)"
   ]
  },
  {
   "cell_type": "code",
   "execution_count": 43,
   "id": "1edf05d8",
   "metadata": {},
   "outputs": [
    {
     "data": {
      "text/plain": [
       "27.0"
      ]
     },
     "execution_count": 43,
     "metadata": {},
     "output_type": "execute_result"
    }
   ],
   "source": [
    "f.sqrt(729)"
   ]
  },
  {
   "cell_type": "code",
   "execution_count": 39,
   "id": "cfe914fc",
   "metadata": {},
   "outputs": [],
   "source": [
    "def powerfunc(b,p):\n",
    "    print(\"value=\",b**p)"
   ]
  },
  {
   "cell_type": "code",
   "execution_count": 40,
   "id": "0ce9a34e",
   "metadata": {},
   "outputs": [
    {
     "name": "stdout",
     "output_type": "stream",
     "text": [
      "value= 1024\n"
     ]
    }
   ],
   "source": [
    "powerfunc(4,5)"
   ]
  },
  {
   "cell_type": "code",
   "execution_count": 35,
   "id": "2e6fbdfb",
   "metadata": {},
   "outputs": [],
   "source": [
    "def powerfunc(b,p):\n",
    "    print(\"value=\",b**p)"
   ]
  },
  {
   "cell_type": "code",
   "execution_count": 36,
   "id": "f77c60b1",
   "metadata": {},
   "outputs": [
    {
     "name": "stdout",
     "output_type": "stream",
     "text": [
      "value= 8\n"
     ]
    }
   ],
   "source": [
    "powerfunc(2,3)"
   ]
  },
  {
   "cell_type": "code",
   "execution_count": 33,
   "id": "d5807e0d",
   "metadata": {},
   "outputs": [],
   "source": [
    "def power(x,y):\n",
    "    print(\"value=\",x**y)"
   ]
  },
  {
   "cell_type": "code",
   "execution_count": 34,
   "id": "63d389de",
   "metadata": {},
   "outputs": [
    {
     "name": "stdout",
     "output_type": "stream",
     "text": [
      "value= 8\n"
     ]
    }
   ],
   "source": [
    "power(2,3)"
   ]
  },
  {
   "cell_type": "code",
   "execution_count": 44,
   "id": "7c0eb96a",
   "metadata": {},
   "outputs": [],
   "source": [
    "import math as f #importing maths as a nickname"
   ]
  },
  {
   "cell_type": "code",
   "execution_count": 45,
   "id": "902a52cd",
   "metadata": {},
   "outputs": [],
   "source": [
    "from math import pi"
   ]
  },
  {
   "cell_type": "code",
   "execution_count": 46,
   "id": "0d0a3a0e",
   "metadata": {},
   "outputs": [
    {
     "data": {
      "text/plain": [
       "3.141592653589793"
      ]
     },
     "execution_count": 46,
     "metadata": {},
     "output_type": "execute_result"
    }
   ],
   "source": [
    "pi"
   ]
  },
  {
   "cell_type": "code",
   "execution_count": 48,
   "id": "d6e1ff60",
   "metadata": {},
   "outputs": [
    {
     "data": {
      "text/plain": [
       "dict_keys(['__name__', '__doc__', '__package__', '__loader__', '__spec__', 'acos', 'acosh', 'asin', 'asinh', 'atan', 'atan2', 'atanh', 'ceil', 'copysign', 'cos', 'cosh', 'degrees', 'dist', 'erf', 'erfc', 'exp', 'expm1', 'fabs', 'factorial', 'floor', 'fmod', 'frexp', 'fsum', 'gamma', 'gcd', 'hypot', 'isclose', 'isfinite', 'isinf', 'isnan', 'isqrt', 'lcm', 'ldexp', 'lgamma', 'log', 'log1p', 'log10', 'log2', 'modf', 'pow', 'radians', 'remainder', 'sin', 'sinh', 'sqrt', 'tan', 'tanh', 'trunc', 'prod', 'perm', 'comb', 'nextafter', 'ulp', 'pi', 'e', 'tau', 'inf', 'nan'])"
      ]
     },
     "execution_count": 48,
     "metadata": {},
     "output_type": "execute_result"
    }
   ],
   "source": [
    "math.__dict__.keys()"
   ]
  },
  {
   "cell_type": "code",
   "execution_count": null,
   "id": "e9884975",
   "metadata": {},
   "outputs": [],
   "source": [
    " "
   ]
  }
 ],
 "metadata": {
  "kernelspec": {
   "display_name": "Python 3 (ipykernel)",
   "language": "python",
   "name": "python3"
  },
  "language_info": {
   "codemirror_mode": {
    "name": "ipython",
    "version": 3
   },
   "file_extension": ".py",
   "mimetype": "text/x-python",
   "name": "python",
   "nbconvert_exporter": "python",
   "pygments_lexer": "ipython3",
   "version": "3.9.13"
  }
 },
 "nbformat": 4,
 "nbformat_minor": 5
}
