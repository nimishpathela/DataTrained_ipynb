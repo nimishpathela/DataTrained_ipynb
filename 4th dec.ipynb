{
 "cells": [
  {
   "cell_type": "code",
   "execution_count": 38,
   "id": "3a7af87f",
   "metadata": {},
   "outputs": [],
   "source": [
    "a=70"
   ]
  },
  {
   "cell_type": "code",
   "execution_count": 2,
   "id": "2dbd5608",
   "metadata": {},
   "outputs": [],
   "source": [
    "b=55"
   ]
  },
  {
   "cell_type": "code",
   "execution_count": 96,
   "id": "cd3906bc",
   "metadata": {},
   "outputs": [
    {
     "data": {
      "text/plain": [
       "125"
      ]
     },
     "execution_count": 96,
     "metadata": {},
     "output_type": "execute_result"
    }
   ],
   "source": [
    "a+b"
   ]
  },
  {
   "cell_type": "code",
   "execution_count": 60,
   "id": "bcb4aed4",
   "metadata": {},
   "outputs": [
    {
     "data": {
      "text/plain": [
       "int"
      ]
     },
     "execution_count": 60,
     "metadata": {},
     "output_type": "execute_result"
    }
   ],
   "source": [
    "type(a)"
   ]
  },
  {
   "cell_type": "code",
   "execution_count": 5,
   "id": "09a51735",
   "metadata": {},
   "outputs": [
    {
     "data": {
      "text/plain": [
       "70"
      ]
     },
     "execution_count": 5,
     "metadata": {},
     "output_type": "execute_result"
    }
   ],
   "source": [
    "int(a)"
   ]
  },
  {
   "cell_type": "code",
   "execution_count": 6,
   "id": "343d76c5",
   "metadata": {},
   "outputs": [
    {
     "data": {
      "text/plain": [
       "125"
      ]
     },
     "execution_count": 6,
     "metadata": {},
     "output_type": "execute_result"
    }
   ],
   "source": [
    "b+int(a)"
   ]
  },
  {
   "cell_type": "code",
   "execution_count": 99,
   "id": "8b7a747c",
   "metadata": {},
   "outputs": [],
   "source": [
    "c='156'"
   ]
  },
  {
   "cell_type": "code",
   "execution_count": 97,
   "id": "6418cd7b",
   "metadata": {},
   "outputs": [
    {
     "data": {
      "text/plain": [
       "int"
      ]
     },
     "execution_count": 97,
     "metadata": {},
     "output_type": "execute_result"
    }
   ],
   "source": [
    "type(c)"
   ]
  },
  {
   "cell_type": "code",
   "execution_count": 9,
   "id": "aaf771f3",
   "metadata": {},
   "outputs": [
    {
     "data": {
      "text/plain": [
       "str"
      ]
     },
     "execution_count": 9,
     "metadata": {},
     "output_type": "execute_result"
    }
   ],
   "source": [
    "type(c)"
   ]
  },
  {
   "cell_type": "code",
   "execution_count": 100,
   "id": "02fd59a0",
   "metadata": {},
   "outputs": [
    {
     "data": {
      "text/plain": [
       "156"
      ]
     },
     "execution_count": 100,
     "metadata": {},
     "output_type": "execute_result"
    }
   ],
   "source": [
    "int(c)"
   ]
  },
  {
   "cell_type": "code",
   "execution_count": 101,
   "id": "53f91b9f",
   "metadata": {},
   "outputs": [
    {
     "data": {
      "text/plain": [
       "156.0"
      ]
     },
     "execution_count": 101,
     "metadata": {},
     "output_type": "execute_result"
    }
   ],
   "source": [
    "float(c)"
   ]
  },
  {
   "cell_type": "code",
   "execution_count": 102,
   "id": "5e35c1e5",
   "metadata": {},
   "outputs": [
    {
     "data": {
      "text/plain": [
       "156"
      ]
     },
     "execution_count": 102,
     "metadata": {},
     "output_type": "execute_result"
    }
   ],
   "source": [
    "int(c)"
   ]
  },
  {
   "cell_type": "code",
   "execution_count": 13,
   "id": "b5a2d78d",
   "metadata": {},
   "outputs": [],
   "source": [
    "d=float(c)"
   ]
  },
  {
   "cell_type": "code",
   "execution_count": 14,
   "id": "c19cd561",
   "metadata": {},
   "outputs": [
    {
     "data": {
      "text/plain": [
       "156"
      ]
     },
     "execution_count": 14,
     "metadata": {},
     "output_type": "execute_result"
    }
   ],
   "source": [
    "int(d)"
   ]
  },
  {
   "cell_type": "code",
   "execution_count": 104,
   "id": "a2ec1907",
   "metadata": {},
   "outputs": [
    {
     "data": {
      "text/plain": [
       "'knke'"
      ]
     },
     "execution_count": 104,
     "metadata": {},
     "output_type": "execute_result"
    }
   ],
   "source": [
    "'knke'"
   ]
  },
  {
   "cell_type": "code",
   "execution_count": 16,
   "id": "1d1a5a3d",
   "metadata": {},
   "outputs": [
    {
     "name": "stdout",
     "output_type": "stream",
     "text": [
      "njencj\n"
     ]
    }
   ],
   "source": [
    "print('njencj')"
   ]
  },
  {
   "cell_type": "code",
   "execution_count": 17,
   "id": "e841f107",
   "metadata": {},
   "outputs": [],
   "source": [
    "c=154"
   ]
  },
  {
   "cell_type": "code",
   "execution_count": 18,
   "id": "8d1d5f90",
   "metadata": {},
   "outputs": [
    {
     "data": {
      "text/plain": [
       "154.0"
      ]
     },
     "execution_count": 18,
     "metadata": {},
     "output_type": "execute_result"
    }
   ],
   "source": [
    "float(c)"
   ]
  },
  {
   "cell_type": "code",
   "execution_count": 105,
   "id": "08c43115",
   "metadata": {},
   "outputs": [],
   "source": [
    "e=55+315.4"
   ]
  },
  {
   "cell_type": "code",
   "execution_count": 20,
   "id": "d82eb075",
   "metadata": {},
   "outputs": [],
   "source": [
    "e=55+351.5"
   ]
  },
  {
   "cell_type": "code",
   "execution_count": 109,
   "id": "abd9ab1e",
   "metadata": {},
   "outputs": [
    {
     "data": {
      "text/plain": [
       "185.0"
      ]
     },
     "execution_count": 109,
     "metadata": {},
     "output_type": "execute_result"
    }
   ],
   "source": [
    "e//2"
   ]
  },
  {
   "cell_type": "code",
   "execution_count": 22,
   "id": "65137546",
   "metadata": {},
   "outputs": [
    {
     "name": "stdout",
     "output_type": "stream",
     "text": [
      "//e\n"
     ]
    }
   ],
   "source": [
    "print('//e')"
   ]
  },
  {
   "cell_type": "code",
   "execution_count": 23,
   "id": "84fdd41f",
   "metadata": {},
   "outputs": [
    {
     "data": {
      "text/plain": [
       "1"
      ]
     },
     "execution_count": 23,
     "metadata": {},
     "output_type": "execute_result"
    }
   ],
   "source": [
    "4//3"
   ]
  },
  {
   "cell_type": "code",
   "execution_count": 24,
   "id": "8b32523b",
   "metadata": {},
   "outputs": [],
   "source": [
    "e=3"
   ]
  },
  {
   "cell_type": "code",
   "execution_count": 61,
   "id": "56d85483",
   "metadata": {},
   "outputs": [],
   "source": [
    "list1= [a,b,c,c,]"
   ]
  },
  {
   "cell_type": "code",
   "execution_count": 62,
   "id": "3ff5b2ae",
   "metadata": {},
   "outputs": [
    {
     "data": {
      "text/plain": [
       "[70, 55, 154, 154]"
      ]
     },
     "execution_count": 62,
     "metadata": {},
     "output_type": "execute_result"
    }
   ],
   "source": [
    "list1\n"
   ]
  },
  {
   "cell_type": "code",
   "execution_count": 2,
   "id": "e45aef47",
   "metadata": {},
   "outputs": [],
   "source": [
    "list2=[ 'g','k','l','ojn' ]"
   ]
  },
  {
   "cell_type": "code",
   "execution_count": 66,
   "id": "7ecf2d40",
   "metadata": {},
   "outputs": [
    {
     "data": {
      "text/plain": [
       "['g', 'k', 'l', 'ojn']"
      ]
     },
     "execution_count": 66,
     "metadata": {},
     "output_type": "execute_result"
    }
   ],
   "source": [
    "list2"
   ]
  },
  {
   "cell_type": "code",
   "execution_count": 88,
   "id": "49b78a3c",
   "metadata": {},
   "outputs": [
    {
     "data": {
      "text/plain": [
       "154.0"
      ]
     },
     "execution_count": 88,
     "metadata": {},
     "output_type": "execute_result"
    }
   ],
   "source": [
    "float(list1[0+3])"
   ]
  },
  {
   "cell_type": "code",
   "execution_count": 91,
   "id": "fad02152",
   "metadata": {},
   "outputs": [
    {
     "data": {
      "text/plain": [
       "'g'"
      ]
     },
     "execution_count": 91,
     "metadata": {},
     "output_type": "execute_result"
    }
   ],
   "source": [
    "list2[0]"
   ]
  },
  {
   "cell_type": "code",
   "execution_count": 70,
   "id": "0f1f4cba",
   "metadata": {},
   "outputs": [
    {
     "name": "stdout",
     "output_type": "stream",
     "text": [
      "burthdy+happy\n"
     ]
    }
   ],
   "source": [
    "print ('burthdy+happy')"
   ]
  },
  {
   "cell_type": "code",
   "execution_count": 54,
   "id": "9978b51e",
   "metadata": {},
   "outputs": [
    {
     "data": {
      "text/plain": [
       "'happy birthday  '"
      ]
     },
     "execution_count": 54,
     "metadata": {},
     "output_type": "execute_result"
    }
   ],
   "source": [
    "'happy'+ ' birthday  '"
   ]
  },
  {
   "cell_type": "code",
   "execution_count": 71,
   "id": "7471c5e3",
   "metadata": {},
   "outputs": [
    {
     "data": {
      "text/plain": [
       "['g', 'k', 'l', 'ojn']"
      ]
     },
     "execution_count": 71,
     "metadata": {},
     "output_type": "execute_result"
    }
   ],
   "source": [
    "list2[0:4]"
   ]
  },
  {
   "cell_type": "code",
   "execution_count": 93,
   "id": "83b1ddef",
   "metadata": {},
   "outputs": [
    {
     "data": {
      "text/plain": [
       "'ojn'"
      ]
     },
     "execution_count": 93,
     "metadata": {},
     "output_type": "execute_result"
    }
   ],
   "source": [
    "list2[1 + 2]"
   ]
  },
  {
   "cell_type": "code",
   "execution_count": 95,
   "id": "b2a929b5",
   "metadata": {},
   "outputs": [
    {
     "data": {
      "text/plain": [
       "['g', 'k', 'l']"
      ]
     },
     "execution_count": 95,
     "metadata": {},
     "output_type": "execute_result"
    }
   ],
   "source": [
    "list2[:3 ]"
   ]
  },
  {
   "cell_type": "code",
   "execution_count": null,
   "id": "60719ff5",
   "metadata": {},
   "outputs": [],
   "source": []
  }
 ],
 "metadata": {
  "kernelspec": {
   "display_name": "Python 3 (ipykernel)",
   "language": "python",
   "name": "python3"
  },
  "language_info": {
   "codemirror_mode": {
    "name": "ipython",
    "version": 3
   },
   "file_extension": ".py",
   "mimetype": "text/x-python",
   "name": "python",
   "nbconvert_exporter": "python",
   "pygments_lexer": "ipython3",
   "version": "3.9.13"
  }
 },
 "nbformat": 4,
 "nbformat_minor": 5
}
