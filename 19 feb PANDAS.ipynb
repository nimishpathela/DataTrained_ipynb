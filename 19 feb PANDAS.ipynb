{
 "cells": [
  {
   "cell_type": "code",
   "execution_count": 2,
   "id": "44541232",
   "metadata": {},
   "outputs": [],
   "source": [
    "\n",
    "import pandas as pd "
   ]
  },
  {
   "cell_type": "code",
   "execution_count": 3,
   "id": "bbd9ccbd",
   "metadata": {},
   "outputs": [],
   "source": [
    "a=pd.Series([1,5,8])"
   ]
  },
  {
   "cell_type": "code",
   "execution_count": 4,
   "id": "c747ee83",
   "metadata": {},
   "outputs": [
    {
     "data": {
      "text/plain": [
       "0    1\n",
       "1    5\n",
       "2    8\n",
       "dtype: int64"
      ]
     },
     "execution_count": 4,
     "metadata": {},
     "output_type": "execute_result"
    }
   ],
   "source": [
    "a"
   ]
  },
  {
   "cell_type": "code",
   "execution_count": 18,
   "id": "b83ef02b",
   "metadata": {},
   "outputs": [],
   "source": [
    "#we can change the index as per our convenience\n",
    "#9([values],[index])\n",
    "b=pd.Series([2,5,7],[1,5,7])"
   ]
  },
  {
   "cell_type": "code",
   "execution_count": 19,
   "id": "17a172f6",
   "metadata": {},
   "outputs": [
    {
     "data": {
      "text/plain": [
       "1    2\n",
       "5    5\n",
       "7    7\n",
       "dtype: int64"
      ]
     },
     "execution_count": 19,
     "metadata": {},
     "output_type": "execute_result"
    }
   ],
   "source": [
    "b"
   ]
  },
  {
   "cell_type": "code",
   "execution_count": 23,
   "id": "93191317",
   "metadata": {},
   "outputs": [],
   "source": [
    "b=pd.Series([2,5,7],[1,5,7],dtype='float32')"
   ]
  },
  {
   "cell_type": "code",
   "execution_count": 24,
   "id": "6a4aa1a6",
   "metadata": {},
   "outputs": [
    {
     "data": {
      "text/plain": [
       "1    2.0\n",
       "5    5.0\n",
       "7    7.0\n",
       "dtype: float32"
      ]
     },
     "execution_count": 24,
     "metadata": {},
     "output_type": "execute_result"
    }
   ],
   "source": [
    "b"
   ]
  },
  {
   "cell_type": "code",
   "execution_count": 26,
   "id": "83c1a0a3",
   "metadata": {},
   "outputs": [
    {
     "data": {
      "text/plain": [
       "1    2.0\n",
       "5    5.0\n",
       "dtype: float32"
      ]
     },
     "execution_count": 26,
     "metadata": {},
     "output_type": "execute_result"
    }
   ],
   "source": [
    "#slicing\n",
    "b[0:2]"
   ]
  },
  {
   "cell_type": "code",
   "execution_count": 30,
   "id": "4ed960fe",
   "metadata": {},
   "outputs": [],
   "source": [
    "b=pd.Series([2,5,7],index=[1,5,7])"
   ]
  },
  {
   "cell_type": "code",
   "execution_count": 31,
   "id": "6457880b",
   "metadata": {},
   "outputs": [
    {
     "data": {
      "text/plain": [
       "1    2\n",
       "5    5\n",
       "7    7\n",
       "dtype: int64"
      ]
     },
     "execution_count": 31,
     "metadata": {},
     "output_type": "execute_result"
    }
   ],
   "source": [
    "b"
   ]
  },
  {
   "cell_type": "markdown",
   "id": "bb899945",
   "metadata": {},
   "source": [
    "# DATAFRAME\n"
   ]
  },
  {
   "cell_type": "code",
   "execution_count": 5,
   "id": "1854da78",
   "metadata": {},
   "outputs": [],
   "source": [
    "import pandas as pd"
   ]
  },
  {
   "cell_type": "code",
   "execution_count": 6,
   "id": "a925106b",
   "metadata": {},
   "outputs": [],
   "source": [
    "df=pd.DataFrame([1,5,7,6])"
   ]
  },
  {
   "cell_type": "code",
   "execution_count": 6,
   "id": "b337abc9",
   "metadata": {},
   "outputs": [
    {
     "data": {
      "text/html": [
       "<div>\n",
       "<style scoped>\n",
       "    .dataframe tbody tr th:only-of-type {\n",
       "        vertical-align: middle;\n",
       "    }\n",
       "\n",
       "    .dataframe tbody tr th {\n",
       "        vertical-align: top;\n",
       "    }\n",
       "\n",
       "    .dataframe thead th {\n",
       "        text-align: right;\n",
       "    }\n",
       "</style>\n",
       "<table border=\"1\" class=\"dataframe\">\n",
       "  <thead>\n",
       "    <tr style=\"text-align: right;\">\n",
       "      <th></th>\n",
       "      <th>0</th>\n",
       "    </tr>\n",
       "  </thead>\n",
       "  <tbody>\n",
       "    <tr>\n",
       "      <th>0</th>\n",
       "      <td>1</td>\n",
       "    </tr>\n",
       "    <tr>\n",
       "      <th>1</th>\n",
       "      <td>5</td>\n",
       "    </tr>\n",
       "    <tr>\n",
       "      <th>2</th>\n",
       "      <td>7</td>\n",
       "    </tr>\n",
       "    <tr>\n",
       "      <th>3</th>\n",
       "      <td>6</td>\n",
       "    </tr>\n",
       "  </tbody>\n",
       "</table>\n",
       "</div>"
      ],
      "text/plain": [
       "   0\n",
       "0  1\n",
       "1  5\n",
       "2  7\n",
       "3  6"
      ]
     },
     "execution_count": 6,
     "metadata": {},
     "output_type": "execute_result"
    }
   ],
   "source": [
    "df"
   ]
  },
  {
   "cell_type": "code",
   "execution_count": 8,
   "id": "8a81e1c1",
   "metadata": {},
   "outputs": [
    {
     "data": {
      "text/html": [
       "<div>\n",
       "<style scoped>\n",
       "    .dataframe tbody tr th:only-of-type {\n",
       "        vertical-align: middle;\n",
       "    }\n",
       "\n",
       "    .dataframe tbody tr th {\n",
       "        vertical-align: top;\n",
       "    }\n",
       "\n",
       "    .dataframe thead th {\n",
       "        text-align: right;\n",
       "    }\n",
       "</style>\n",
       "<table border=\"1\" class=\"dataframe\">\n",
       "  <thead>\n",
       "    <tr style=\"text-align: right;\">\n",
       "      <th></th>\n",
       "      <th>0</th>\n",
       "    </tr>\n",
       "  </thead>\n",
       "  <tbody>\n",
       "    <tr>\n",
       "      <th>0</th>\n",
       "      <td>1</td>\n",
       "    </tr>\n",
       "    <tr>\n",
       "      <th>1</th>\n",
       "      <td>6</td>\n",
       "    </tr>\n",
       "    <tr>\n",
       "      <th>2</th>\n",
       "      <td>8</td>\n",
       "    </tr>\n",
       "    <tr>\n",
       "      <th>3</th>\n",
       "      <td>13</td>\n",
       "    </tr>\n",
       "  </tbody>\n",
       "</table>\n",
       "</div>"
      ],
      "text/plain": [
       "    0\n",
       "0   1\n",
       "1   6\n",
       "2   8\n",
       "3  13"
      ]
     },
     "execution_count": 8,
     "metadata": {},
     "output_type": "execute_result"
    }
   ],
   "source": [
    "data=[1,6,8,13]\n",
    "pf=pd.DataFrame(data)\n",
    "pf"
   ]
  },
  {
   "cell_type": "code",
   "execution_count": 15,
   "id": "f2b34870",
   "metadata": {},
   "outputs": [],
   "source": [
    "import pandas as d"
   ]
  },
  {
   "cell_type": "code",
   "execution_count": 16,
   "id": "41acefaa",
   "metadata": {},
   "outputs": [],
   "source": [
    "df=d.DataFrame([1,5,7,6])"
   ]
  },
  {
   "cell_type": "code",
   "execution_count": 17,
   "id": "bdcf6cef",
   "metadata": {},
   "outputs": [
    {
     "data": {
      "text/html": [
       "<div>\n",
       "<style scoped>\n",
       "    .dataframe tbody tr th:only-of-type {\n",
       "        vertical-align: middle;\n",
       "    }\n",
       "\n",
       "    .dataframe tbody tr th {\n",
       "        vertical-align: top;\n",
       "    }\n",
       "\n",
       "    .dataframe thead th {\n",
       "        text-align: right;\n",
       "    }\n",
       "</style>\n",
       "<table border=\"1\" class=\"dataframe\">\n",
       "  <thead>\n",
       "    <tr style=\"text-align: right;\">\n",
       "      <th></th>\n",
       "      <th>0</th>\n",
       "    </tr>\n",
       "  </thead>\n",
       "  <tbody>\n",
       "    <tr>\n",
       "      <th>0</th>\n",
       "      <td>1</td>\n",
       "    </tr>\n",
       "    <tr>\n",
       "      <th>1</th>\n",
       "      <td>5</td>\n",
       "    </tr>\n",
       "    <tr>\n",
       "      <th>2</th>\n",
       "      <td>7</td>\n",
       "    </tr>\n",
       "    <tr>\n",
       "      <th>3</th>\n",
       "      <td>6</td>\n",
       "    </tr>\n",
       "  </tbody>\n",
       "</table>\n",
       "</div>"
      ],
      "text/plain": [
       "   0\n",
       "0  1\n",
       "1  5\n",
       "2  7\n",
       "3  6"
      ]
     },
     "execution_count": 17,
     "metadata": {},
     "output_type": "execute_result"
    }
   ],
   "source": [
    "df"
   ]
  },
  {
   "cell_type": "code",
   "execution_count": 18,
   "id": "a36adae1",
   "metadata": {},
   "outputs": [
    {
     "data": {
      "text/html": [
       "<div>\n",
       "<style scoped>\n",
       "    .dataframe tbody tr th:only-of-type {\n",
       "        vertical-align: middle;\n",
       "    }\n",
       "\n",
       "    .dataframe tbody tr th {\n",
       "        vertical-align: top;\n",
       "    }\n",
       "\n",
       "    .dataframe thead th {\n",
       "        text-align: right;\n",
       "    }\n",
       "</style>\n",
       "<table border=\"1\" class=\"dataframe\">\n",
       "  <thead>\n",
       "    <tr style=\"text-align: right;\">\n",
       "      <th></th>\n",
       "      <th>0</th>\n",
       "    </tr>\n",
       "  </thead>\n",
       "  <tbody>\n",
       "    <tr>\n",
       "      <th>0</th>\n",
       "      <td>1</td>\n",
       "    </tr>\n",
       "    <tr>\n",
       "      <th>1</th>\n",
       "      <td>6</td>\n",
       "    </tr>\n",
       "    <tr>\n",
       "      <th>2</th>\n",
       "      <td>8</td>\n",
       "    </tr>\n",
       "    <tr>\n",
       "      <th>3</th>\n",
       "      <td>13</td>\n",
       "    </tr>\n",
       "  </tbody>\n",
       "</table>\n",
       "</div>"
      ],
      "text/plain": [
       "    0\n",
       "0   1\n",
       "1   6\n",
       "2   8\n",
       "3  13"
      ]
     },
     "execution_count": 18,
     "metadata": {},
     "output_type": "execute_result"
    }
   ],
   "source": [
    "data=[1,6,8,13]\n",
    "pf=d.DataFrame(data)\n",
    "pf"
   ]
  },
  {
   "cell_type": "code",
   "execution_count": 11,
   "id": "e636edf2",
   "metadata": {},
   "outputs": [
    {
     "data": {
      "text/html": [
       "<div>\n",
       "<style scoped>\n",
       "    .dataframe tbody tr th:only-of-type {\n",
       "        vertical-align: middle;\n",
       "    }\n",
       "\n",
       "    .dataframe tbody tr th {\n",
       "        vertical-align: top;\n",
       "    }\n",
       "\n",
       "    .dataframe thead th {\n",
       "        text-align: right;\n",
       "    }\n",
       "</style>\n",
       "<table border=\"1\" class=\"dataframe\">\n",
       "  <thead>\n",
       "    <tr style=\"text-align: right;\">\n",
       "      <th></th>\n",
       "      <th>0</th>\n",
       "      <th>1</th>\n",
       "    </tr>\n",
       "  </thead>\n",
       "  <tbody>\n",
       "    <tr>\n",
       "      <th>0</th>\n",
       "      <td>x</td>\n",
       "      <td>1</td>\n",
       "    </tr>\n",
       "    <tr>\n",
       "      <th>1</th>\n",
       "      <td>c</td>\n",
       "      <td>3</td>\n",
       "    </tr>\n",
       "    <tr>\n",
       "      <th>2</th>\n",
       "      <td>f</td>\n",
       "      <td>8</td>\n",
       "    </tr>\n",
       "  </tbody>\n",
       "</table>\n",
       "</div>"
      ],
      "text/plain": [
       "   0  1\n",
       "0  x  1\n",
       "1  c  3\n",
       "2  f  8"
      ]
     },
     "execution_count": 11,
     "metadata": {},
     "output_type": "execute_result"
    }
   ],
   "source": [
    "data=[['x',1],['c',3],['f',8]]\n",
    "ps=pd.DataFrame(data)\n",
    "ps"
   ]
  },
  {
   "cell_type": "code",
   "execution_count": 20,
   "id": "f47b21fa",
   "metadata": {},
   "outputs": [
    {
     "data": {
      "text/html": [
       "<div>\n",
       "<style scoped>\n",
       "    .dataframe tbody tr th:only-of-type {\n",
       "        vertical-align: middle;\n",
       "    }\n",
       "\n",
       "    .dataframe tbody tr th {\n",
       "        vertical-align: top;\n",
       "    }\n",
       "\n",
       "    .dataframe thead th {\n",
       "        text-align: right;\n",
       "    }\n",
       "</style>\n",
       "<table border=\"1\" class=\"dataframe\">\n",
       "  <thead>\n",
       "    <tr style=\"text-align: right;\">\n",
       "      <th></th>\n",
       "      <th>name</th>\n",
       "      <th>marks</th>\n",
       "    </tr>\n",
       "  </thead>\n",
       "  <tbody>\n",
       "    <tr>\n",
       "      <th>s.no</th>\n",
       "      <td>x</td>\n",
       "      <td>1</td>\n",
       "    </tr>\n",
       "    <tr>\n",
       "      <th>1</th>\n",
       "      <td>c</td>\n",
       "      <td>3</td>\n",
       "    </tr>\n",
       "    <tr>\n",
       "      <th>2</th>\n",
       "      <td>f</td>\n",
       "      <td>8</td>\n",
       "    </tr>\n",
       "  </tbody>\n",
       "</table>\n",
       "</div>"
      ],
      "text/plain": [
       "     name  marks\n",
       "s.no    x      1\n",
       "1       c      3\n",
       "2       f      8"
      ]
     },
     "execution_count": 20,
     "metadata": {},
     "output_type": "execute_result"
    }
   ],
   "source": [
    "data=[['x',1],['c',3],['f',8]]\n",
    "ps=d.DataFrame(data,columns=['name','marks'],index=['s.no',1,2])\n",
    "ps"
   ]
  },
  {
   "cell_type": "code",
   "execution_count": 25,
   "id": "b18a3902",
   "metadata": {},
   "outputs": [
    {
     "data": {
      "text/plain": [
       "{'name': ['c', 'v', 'b'], 'age': [6, 8, 9], 'gender': ['m', 'f', 'b']}"
      ]
     },
     "execution_count": 25,
     "metadata": {},
     "output_type": "execute_result"
    }
   ],
   "source": [
    "dict1={'name':['c','v','b'],'age':[6,8,9],'gender':['m','f','b']}\n",
    "dict1"
   ]
  },
  {
   "cell_type": "code",
   "execution_count": 26,
   "id": "7e2cb020",
   "metadata": {},
   "outputs": [
    {
     "data": {
      "text/html": [
       "<div>\n",
       "<style scoped>\n",
       "    .dataframe tbody tr th:only-of-type {\n",
       "        vertical-align: middle;\n",
       "    }\n",
       "\n",
       "    .dataframe tbody tr th {\n",
       "        vertical-align: top;\n",
       "    }\n",
       "\n",
       "    .dataframe thead th {\n",
       "        text-align: right;\n",
       "    }\n",
       "</style>\n",
       "<table border=\"1\" class=\"dataframe\">\n",
       "  <thead>\n",
       "    <tr style=\"text-align: right;\">\n",
       "      <th></th>\n",
       "      <th>name</th>\n",
       "      <th>age</th>\n",
       "      <th>gender</th>\n",
       "    </tr>\n",
       "  </thead>\n",
       "  <tbody>\n",
       "    <tr>\n",
       "      <th>0</th>\n",
       "      <td>c</td>\n",
       "      <td>6</td>\n",
       "      <td>m</td>\n",
       "    </tr>\n",
       "    <tr>\n",
       "      <th>1</th>\n",
       "      <td>v</td>\n",
       "      <td>8</td>\n",
       "      <td>f</td>\n",
       "    </tr>\n",
       "    <tr>\n",
       "      <th>2</th>\n",
       "      <td>b</td>\n",
       "      <td>9</td>\n",
       "      <td>b</td>\n",
       "    </tr>\n",
       "  </tbody>\n",
       "</table>\n",
       "</div>"
      ],
      "text/plain": [
       "  name  age gender\n",
       "0    c    6      m\n",
       "1    v    8      f\n",
       "2    b    9      b"
      ]
     },
     "execution_count": 26,
     "metadata": {},
     "output_type": "execute_result"
    }
   ],
   "source": [
    "ps=d.DataFrame(dict1)\n",
    "ps"
   ]
  },
  {
   "cell_type": "code",
   "execution_count": 34,
   "id": "056eded2",
   "metadata": {},
   "outputs": [
    {
     "data": {
      "text/html": [
       "<div>\n",
       "<style scoped>\n",
       "    .dataframe tbody tr th:only-of-type {\n",
       "        vertical-align: middle;\n",
       "    }\n",
       "\n",
       "    .dataframe tbody tr th {\n",
       "        vertical-align: top;\n",
       "    }\n",
       "\n",
       "    .dataframe thead th {\n",
       "        text-align: right;\n",
       "    }\n",
       "</style>\n",
       "<table border=\"1\" class=\"dataframe\">\n",
       "  <thead>\n",
       "    <tr style=\"text-align: right;\">\n",
       "      <th></th>\n",
       "      <th>name</th>\n",
       "      <th>age</th>\n",
       "    </tr>\n",
       "  </thead>\n",
       "  <tbody>\n",
       "    <tr>\n",
       "      <th>sno</th>\n",
       "      <td>c</td>\n",
       "      <td>6</td>\n",
       "    </tr>\n",
       "    <tr>\n",
       "      <th>1</th>\n",
       "      <td>v</td>\n",
       "      <td>8</td>\n",
       "    </tr>\n",
       "    <tr>\n",
       "      <th>2</th>\n",
       "      <td>b</td>\n",
       "      <td>9</td>\n",
       "    </tr>\n",
       "  </tbody>\n",
       "</table>\n",
       "</div>"
      ],
      "text/plain": [
       "    name  age\n",
       "sno    c    6\n",
       "1      v    8\n",
       "2      b    9"
      ]
     },
     "execution_count": 34,
     "metadata": {},
     "output_type": "execute_result"
    }
   ],
   "source": [
    "#slicing of columns\n",
    "ps=d.DataFrame(dict1,index=['sno',1,2],columns=['name','age'])\n",
    "ps"
   ]
  },
  {
   "cell_type": "code",
   "execution_count": 35,
   "id": "6831c8ac",
   "metadata": {},
   "outputs": [
    {
     "data": {
      "text/plain": [
       "{'name': ['c', 'v', 'b'],\n",
       " 'age': [6, 8, 9],\n",
       " 'gender': ['m', 'f', 'b'],\n",
       " 'marks': [5, 8, 10]}"
      ]
     },
     "execution_count": 35,
     "metadata": {},
     "output_type": "execute_result"
    }
   ],
   "source": [
    "dict1={'name':['c','v','b'],'age':[6,8,9],'gender':['m','f','b'],'marks':[5,8,10]}\n",
    "dict1"
   ]
  },
  {
   "cell_type": "code",
   "execution_count": 65,
   "id": "a34f3c11",
   "metadata": {},
   "outputs": [
    {
     "data": {
      "text/html": [
       "<div>\n",
       "<style scoped>\n",
       "    .dataframe tbody tr th:only-of-type {\n",
       "        vertical-align: middle;\n",
       "    }\n",
       "\n",
       "    .dataframe tbody tr th {\n",
       "        vertical-align: top;\n",
       "    }\n",
       "\n",
       "    .dataframe thead th {\n",
       "        text-align: right;\n",
       "    }\n",
       "</style>\n",
       "<table border=\"1\" class=\"dataframe\">\n",
       "  <thead>\n",
       "    <tr style=\"text-align: right;\">\n",
       "      <th></th>\n",
       "      <th>name</th>\n",
       "      <th>age</th>\n",
       "      <th>gender</th>\n",
       "      <th>marks</th>\n",
       "    </tr>\n",
       "  </thead>\n",
       "  <tbody>\n",
       "    <tr>\n",
       "      <th>0</th>\n",
       "      <td>c</td>\n",
       "      <td>6</td>\n",
       "      <td>m</td>\n",
       "      <td>5</td>\n",
       "    </tr>\n",
       "    <tr>\n",
       "      <th>1</th>\n",
       "      <td>v</td>\n",
       "      <td>8</td>\n",
       "      <td>f</td>\n",
       "      <td>8</td>\n",
       "    </tr>\n",
       "    <tr>\n",
       "      <th>2</th>\n",
       "      <td>b</td>\n",
       "      <td>9</td>\n",
       "      <td>b</td>\n",
       "      <td>10</td>\n",
       "    </tr>\n",
       "  </tbody>\n",
       "</table>\n",
       "</div>"
      ],
      "text/plain": [
       "  name  age gender  marks\n",
       "0    c    6      m      5\n",
       "1    v    8      f      8\n",
       "2    b    9      b     10"
      ]
     },
     "execution_count": 65,
     "metadata": {},
     "output_type": "execute_result"
    }
   ],
   "source": [
    "ps=d.DataFrame(dict1)\n",
    "ps.replace('c'=='f')"
   ]
  },
  {
   "cell_type": "code",
   "execution_count": 66,
   "id": "85a8c25c",
   "metadata": {},
   "outputs": [
    {
     "data": {
      "text/html": [
       "<div>\n",
       "<style scoped>\n",
       "    .dataframe tbody tr th:only-of-type {\n",
       "        vertical-align: middle;\n",
       "    }\n",
       "\n",
       "    .dataframe tbody tr th {\n",
       "        vertical-align: top;\n",
       "    }\n",
       "\n",
       "    .dataframe thead th {\n",
       "        text-align: right;\n",
       "    }\n",
       "</style>\n",
       "<table border=\"1\" class=\"dataframe\">\n",
       "  <thead>\n",
       "    <tr style=\"text-align: right;\">\n",
       "      <th></th>\n",
       "      <th>name</th>\n",
       "      <th>age</th>\n",
       "      <th>gender</th>\n",
       "      <th>marks</th>\n",
       "    </tr>\n",
       "  </thead>\n",
       "  <tbody>\n",
       "    <tr>\n",
       "      <th>0</th>\n",
       "      <td>c</td>\n",
       "      <td>6</td>\n",
       "      <td>m</td>\n",
       "      <td>5</td>\n",
       "    </tr>\n",
       "    <tr>\n",
       "      <th>1</th>\n",
       "      <td>v</td>\n",
       "      <td>8</td>\n",
       "      <td>f</td>\n",
       "      <td>8</td>\n",
       "    </tr>\n",
       "    <tr>\n",
       "      <th>2</th>\n",
       "      <td>b</td>\n",
       "      <td>9</td>\n",
       "      <td>b</td>\n",
       "      <td>10</td>\n",
       "    </tr>\n",
       "  </tbody>\n",
       "</table>\n",
       "</div>"
      ],
      "text/plain": [
       "  name  age gender  marks\n",
       "0    c    6      m      5\n",
       "1    v    8      f      8\n",
       "2    b    9      b     10"
      ]
     },
     "execution_count": 66,
     "metadata": {},
     "output_type": "execute_result"
    }
   ],
   "source": [
    "ps"
   ]
  },
  {
   "cell_type": "markdown",
   "id": "431fdf0e",
   "metadata": {},
   "source": [
    "# slicing/indexing using loc and iloc\n"
   ]
  },
  {
   "cell_type": "code",
   "execution_count": 41,
   "id": "82c08bcf",
   "metadata": {},
   "outputs": [
    {
     "data": {
      "text/html": [
       "<div>\n",
       "<style scoped>\n",
       "    .dataframe tbody tr th:only-of-type {\n",
       "        vertical-align: middle;\n",
       "    }\n",
       "\n",
       "    .dataframe tbody tr th {\n",
       "        vertical-align: top;\n",
       "    }\n",
       "\n",
       "    .dataframe thead th {\n",
       "        text-align: right;\n",
       "    }\n",
       "</style>\n",
       "<table border=\"1\" class=\"dataframe\">\n",
       "  <thead>\n",
       "    <tr style=\"text-align: right;\">\n",
       "      <th></th>\n",
       "      <th>name</th>\n",
       "      <th>age</th>\n",
       "      <th>gender</th>\n",
       "    </tr>\n",
       "  </thead>\n",
       "  <tbody>\n",
       "    <tr>\n",
       "      <th>0</th>\n",
       "      <td>c</td>\n",
       "      <td>6</td>\n",
       "      <td>m</td>\n",
       "    </tr>\n",
       "    <tr>\n",
       "      <th>1</th>\n",
       "      <td>v</td>\n",
       "      <td>8</td>\n",
       "      <td>f</td>\n",
       "    </tr>\n",
       "    <tr>\n",
       "      <th>2</th>\n",
       "      <td>b</td>\n",
       "      <td>9</td>\n",
       "      <td>b</td>\n",
       "    </tr>\n",
       "  </tbody>\n",
       "</table>\n",
       "</div>"
      ],
      "text/plain": [
       "  name  age gender\n",
       "0    c    6      m\n",
       "1    v    8      f\n",
       "2    b    9      b"
      ]
     },
     "execution_count": 41,
     "metadata": {},
     "output_type": "execute_result"
    }
   ],
   "source": [
    "#loc; have to use names and end index will be included\n",
    "ps=d.DataFrame(dict1)\n",
    "ps.loc[:,'name':'gender']"
   ]
  },
  {
   "cell_type": "code",
   "execution_count": 42,
   "id": "97cc8ad0",
   "metadata": {},
   "outputs": [
    {
     "data": {
      "text/html": [
       "<div>\n",
       "<style scoped>\n",
       "    .dataframe tbody tr th:only-of-type {\n",
       "        vertical-align: middle;\n",
       "    }\n",
       "\n",
       "    .dataframe tbody tr th {\n",
       "        vertical-align: top;\n",
       "    }\n",
       "\n",
       "    .dataframe thead th {\n",
       "        text-align: right;\n",
       "    }\n",
       "</style>\n",
       "<table border=\"1\" class=\"dataframe\">\n",
       "  <thead>\n",
       "    <tr style=\"text-align: right;\">\n",
       "      <th></th>\n",
       "      <th>age</th>\n",
       "      <th>gender</th>\n",
       "    </tr>\n",
       "  </thead>\n",
       "  <tbody>\n",
       "    <tr>\n",
       "      <th>0</th>\n",
       "      <td>6</td>\n",
       "      <td>m</td>\n",
       "    </tr>\n",
       "    <tr>\n",
       "      <th>1</th>\n",
       "      <td>8</td>\n",
       "      <td>f</td>\n",
       "    </tr>\n",
       "  </tbody>\n",
       "</table>\n",
       "</div>"
      ],
      "text/plain": [
       "   age gender\n",
       "0    6      m\n",
       "1    8      f"
      ]
     },
     "execution_count": 42,
     "metadata": {},
     "output_type": "execute_result"
    }
   ],
   "source": [
    "#iloc= just have to use index nos.and end index will be excluded\n",
    "ps=d.DataFrame(dict1)\n",
    "ps.iloc[0:2,1:3]"
   ]
  },
  {
   "cell_type": "code",
   "execution_count": 44,
   "id": "c622ff71",
   "metadata": {},
   "outputs": [],
   "source": [
    "import numpy as np"
   ]
  },
  {
   "cell_type": "code",
   "execution_count": 50,
   "id": "bc4a478a",
   "metadata": {},
   "outputs": [
    {
     "data": {
      "text/html": [
       "<div>\n",
       "<style scoped>\n",
       "    .dataframe tbody tr th:only-of-type {\n",
       "        vertical-align: middle;\n",
       "    }\n",
       "\n",
       "    .dataframe tbody tr th {\n",
       "        vertical-align: top;\n",
       "    }\n",
       "\n",
       "    .dataframe thead th {\n",
       "        text-align: right;\n",
       "    }\n",
       "</style>\n",
       "<table border=\"1\" class=\"dataframe\">\n",
       "  <thead>\n",
       "    <tr style=\"text-align: right;\">\n",
       "      <th></th>\n",
       "      <th>a</th>\n",
       "      <th>b</th>\n",
       "      <th>c</th>\n",
       "      <th>d</th>\n",
       "      <th>e</th>\n",
       "      <th>f</th>\n",
       "    </tr>\n",
       "  </thead>\n",
       "  <tbody>\n",
       "    <tr>\n",
       "      <th>0</th>\n",
       "      <td>1.501397</td>\n",
       "      <td>-0.090295</td>\n",
       "      <td>-0.534281</td>\n",
       "      <td>1.277761</td>\n",
       "      <td>-0.060731</td>\n",
       "      <td>0.873936</td>\n",
       "    </tr>\n",
       "    <tr>\n",
       "      <th>1</th>\n",
       "      <td>0.560649</td>\n",
       "      <td>0.800996</td>\n",
       "      <td>-0.480724</td>\n",
       "      <td>-1.790043</td>\n",
       "      <td>-1.783147</td>\n",
       "      <td>-0.199425</td>\n",
       "    </tr>\n",
       "    <tr>\n",
       "      <th>2</th>\n",
       "      <td>0.038609</td>\n",
       "      <td>0.973508</td>\n",
       "      <td>-0.249172</td>\n",
       "      <td>-1.043634</td>\n",
       "      <td>0.740807</td>\n",
       "      <td>-0.077243</td>\n",
       "    </tr>\n",
       "    <tr>\n",
       "      <th>3</th>\n",
       "      <td>-0.254919</td>\n",
       "      <td>0.636634</td>\n",
       "      <td>0.327210</td>\n",
       "      <td>1.253278</td>\n",
       "      <td>-1.947401</td>\n",
       "      <td>0.757674</td>\n",
       "    </tr>\n",
       "    <tr>\n",
       "      <th>4</th>\n",
       "      <td>0.943100</td>\n",
       "      <td>-0.134966</td>\n",
       "      <td>-0.394778</td>\n",
       "      <td>0.900176</td>\n",
       "      <td>-0.519260</td>\n",
       "      <td>0.161591</td>\n",
       "    </tr>\n",
       "    <tr>\n",
       "      <th>5</th>\n",
       "      <td>1.110478</td>\n",
       "      <td>0.538921</td>\n",
       "      <td>1.776116</td>\n",
       "      <td>1.602543</td>\n",
       "      <td>1.334850</td>\n",
       "      <td>-0.010964</td>\n",
       "    </tr>\n",
       "    <tr>\n",
       "      <th>6</th>\n",
       "      <td>0.173865</td>\n",
       "      <td>0.509874</td>\n",
       "      <td>-0.398947</td>\n",
       "      <td>1.512983</td>\n",
       "      <td>0.781770</td>\n",
       "      <td>-0.147783</td>\n",
       "    </tr>\n",
       "    <tr>\n",
       "      <th>7</th>\n",
       "      <td>-0.917716</td>\n",
       "      <td>0.711291</td>\n",
       "      <td>-1.160774</td>\n",
       "      <td>-0.231024</td>\n",
       "      <td>-0.825987</td>\n",
       "      <td>0.897815</td>\n",
       "    </tr>\n",
       "    <tr>\n",
       "      <th>8</th>\n",
       "      <td>-0.698536</td>\n",
       "      <td>1.350117</td>\n",
       "      <td>0.458129</td>\n",
       "      <td>0.902912</td>\n",
       "      <td>-0.065388</td>\n",
       "      <td>-0.262947</td>\n",
       "    </tr>\n",
       "    <tr>\n",
       "      <th>9</th>\n",
       "      <td>-0.310211</td>\n",
       "      <td>1.892196</td>\n",
       "      <td>-0.444612</td>\n",
       "      <td>1.489072</td>\n",
       "      <td>-0.673640</td>\n",
       "      <td>-0.395366</td>\n",
       "    </tr>\n",
       "  </tbody>\n",
       "</table>\n",
       "</div>"
      ],
      "text/plain": [
       "          a         b         c         d         e         f\n",
       "0  1.501397 -0.090295 -0.534281  1.277761 -0.060731  0.873936\n",
       "1  0.560649  0.800996 -0.480724 -1.790043 -1.783147 -0.199425\n",
       "2  0.038609  0.973508 -0.249172 -1.043634  0.740807 -0.077243\n",
       "3 -0.254919  0.636634  0.327210  1.253278 -1.947401  0.757674\n",
       "4  0.943100 -0.134966 -0.394778  0.900176 -0.519260  0.161591\n",
       "5  1.110478  0.538921  1.776116  1.602543  1.334850 -0.010964\n",
       "6  0.173865  0.509874 -0.398947  1.512983  0.781770 -0.147783\n",
       "7 -0.917716  0.711291 -1.160774 -0.231024 -0.825987  0.897815\n",
       "8 -0.698536  1.350117  0.458129  0.902912 -0.065388 -0.262947\n",
       "9 -0.310211  1.892196 -0.444612  1.489072 -0.673640 -0.395366"
      ]
     },
     "execution_count": 50,
     "metadata": {},
     "output_type": "execute_result"
    }
   ],
   "source": [
    "x=d.DataFrame(np.random.randn(10,6),columns=['a','b','c','d','e','f'])\n",
    "x"
   ]
  },
  {
   "cell_type": "code",
   "execution_count": 53,
   "id": "14f275e2",
   "metadata": {},
   "outputs": [
    {
     "data": {
      "text/html": [
       "<div>\n",
       "<style scoped>\n",
       "    .dataframe tbody tr th:only-of-type {\n",
       "        vertical-align: middle;\n",
       "    }\n",
       "\n",
       "    .dataframe tbody tr th {\n",
       "        vertical-align: top;\n",
       "    }\n",
       "\n",
       "    .dataframe thead th {\n",
       "        text-align: right;\n",
       "    }\n",
       "</style>\n",
       "<table border=\"1\" class=\"dataframe\">\n",
       "  <thead>\n",
       "    <tr style=\"text-align: right;\">\n",
       "      <th></th>\n",
       "      <th>a</th>\n",
       "      <th>b</th>\n",
       "      <th>c</th>\n",
       "      <th>d</th>\n",
       "    </tr>\n",
       "  </thead>\n",
       "  <tbody>\n",
       "    <tr>\n",
       "      <th>0</th>\n",
       "      <td>1.501397</td>\n",
       "      <td>-0.090295</td>\n",
       "      <td>-0.534281</td>\n",
       "      <td>1.277761</td>\n",
       "    </tr>\n",
       "    <tr>\n",
       "      <th>1</th>\n",
       "      <td>0.560649</td>\n",
       "      <td>0.800996</td>\n",
       "      <td>-0.480724</td>\n",
       "      <td>-1.790043</td>\n",
       "    </tr>\n",
       "    <tr>\n",
       "      <th>2</th>\n",
       "      <td>0.038609</td>\n",
       "      <td>0.973508</td>\n",
       "      <td>-0.249172</td>\n",
       "      <td>-1.043634</td>\n",
       "    </tr>\n",
       "    <tr>\n",
       "      <th>3</th>\n",
       "      <td>-0.254919</td>\n",
       "      <td>0.636634</td>\n",
       "      <td>0.327210</td>\n",
       "      <td>1.253278</td>\n",
       "    </tr>\n",
       "    <tr>\n",
       "      <th>4</th>\n",
       "      <td>0.943100</td>\n",
       "      <td>-0.134966</td>\n",
       "      <td>-0.394778</td>\n",
       "      <td>0.900176</td>\n",
       "    </tr>\n",
       "    <tr>\n",
       "      <th>5</th>\n",
       "      <td>1.110478</td>\n",
       "      <td>0.538921</td>\n",
       "      <td>1.776116</td>\n",
       "      <td>1.602543</td>\n",
       "    </tr>\n",
       "    <tr>\n",
       "      <th>6</th>\n",
       "      <td>0.173865</td>\n",
       "      <td>0.509874</td>\n",
       "      <td>-0.398947</td>\n",
       "      <td>1.512983</td>\n",
       "    </tr>\n",
       "  </tbody>\n",
       "</table>\n",
       "</div>"
      ],
      "text/plain": [
       "          a         b         c         d\n",
       "0  1.501397 -0.090295 -0.534281  1.277761\n",
       "1  0.560649  0.800996 -0.480724 -1.790043\n",
       "2  0.038609  0.973508 -0.249172 -1.043634\n",
       "3 -0.254919  0.636634  0.327210  1.253278\n",
       "4  0.943100 -0.134966 -0.394778  0.900176\n",
       "5  1.110478  0.538921  1.776116  1.602543\n",
       "6  0.173865  0.509874 -0.398947  1.512983"
      ]
     },
     "execution_count": 53,
     "metadata": {},
     "output_type": "execute_result"
    }
   ],
   "source": [
    "x.iloc[0:7,0:4]"
   ]
  },
  {
   "cell_type": "markdown",
   "id": "4e5553e0",
   "metadata": {},
   "source": [
    "# DataFrame ATTRIBUTES/FUNCTIONS"
   ]
  },
  {
   "cell_type": "code",
   "execution_count": 55,
   "id": "37f7a51a",
   "metadata": {},
   "outputs": [
    {
     "data": {
      "text/html": [
       "<div>\n",
       "<style scoped>\n",
       "    .dataframe tbody tr th:only-of-type {\n",
       "        vertical-align: middle;\n",
       "    }\n",
       "\n",
       "    .dataframe tbody tr th {\n",
       "        vertical-align: top;\n",
       "    }\n",
       "\n",
       "    .dataframe thead th {\n",
       "        text-align: right;\n",
       "    }\n",
       "</style>\n",
       "<table border=\"1\" class=\"dataframe\">\n",
       "  <thead>\n",
       "    <tr style=\"text-align: right;\">\n",
       "      <th></th>\n",
       "      <th>0</th>\n",
       "      <th>1</th>\n",
       "      <th>2</th>\n",
       "      <th>3</th>\n",
       "      <th>4</th>\n",
       "      <th>5</th>\n",
       "      <th>6</th>\n",
       "      <th>7</th>\n",
       "    </tr>\n",
       "  </thead>\n",
       "  <tbody>\n",
       "    <tr>\n",
       "      <th>0</th>\n",
       "      <td>-0.426265</td>\n",
       "      <td>-1.692243</td>\n",
       "      <td>0.950464</td>\n",
       "      <td>-0.990463</td>\n",
       "      <td>-1.341357</td>\n",
       "      <td>-0.530507</td>\n",
       "      <td>-0.464146</td>\n",
       "      <td>-0.166658</td>\n",
       "    </tr>\n",
       "    <tr>\n",
       "      <th>1</th>\n",
       "      <td>1.529475</td>\n",
       "      <td>1.184807</td>\n",
       "      <td>1.180170</td>\n",
       "      <td>-1.059190</td>\n",
       "      <td>0.303816</td>\n",
       "      <td>0.593297</td>\n",
       "      <td>-1.228011</td>\n",
       "      <td>0.082285</td>\n",
       "    </tr>\n",
       "    <tr>\n",
       "      <th>2</th>\n",
       "      <td>-2.157465</td>\n",
       "      <td>-0.118891</td>\n",
       "      <td>-0.217519</td>\n",
       "      <td>-0.965730</td>\n",
       "      <td>-0.745986</td>\n",
       "      <td>-0.312151</td>\n",
       "      <td>-0.301043</td>\n",
       "      <td>-0.119505</td>\n",
       "    </tr>\n",
       "    <tr>\n",
       "      <th>3</th>\n",
       "      <td>-1.326121</td>\n",
       "      <td>-1.238907</td>\n",
       "      <td>0.640513</td>\n",
       "      <td>-1.143539</td>\n",
       "      <td>-0.970721</td>\n",
       "      <td>-0.851058</td>\n",
       "      <td>0.432604</td>\n",
       "      <td>0.726825</td>\n",
       "    </tr>\n",
       "    <tr>\n",
       "      <th>4</th>\n",
       "      <td>-1.243075</td>\n",
       "      <td>1.061611</td>\n",
       "      <td>-0.103996</td>\n",
       "      <td>-0.503463</td>\n",
       "      <td>0.045465</td>\n",
       "      <td>0.367741</td>\n",
       "      <td>1.584070</td>\n",
       "      <td>0.205932</td>\n",
       "    </tr>\n",
       "    <tr>\n",
       "      <th>5</th>\n",
       "      <td>0.645327</td>\n",
       "      <td>-0.547901</td>\n",
       "      <td>-1.084323</td>\n",
       "      <td>-0.999856</td>\n",
       "      <td>3.362487</td>\n",
       "      <td>-1.244923</td>\n",
       "      <td>1.844160</td>\n",
       "      <td>1.032974</td>\n",
       "    </tr>\n",
       "    <tr>\n",
       "      <th>6</th>\n",
       "      <td>-0.641971</td>\n",
       "      <td>2.054190</td>\n",
       "      <td>1.097403</td>\n",
       "      <td>0.944583</td>\n",
       "      <td>1.846788</td>\n",
       "      <td>-1.060956</td>\n",
       "      <td>1.642742</td>\n",
       "      <td>-2.086889</td>\n",
       "    </tr>\n",
       "  </tbody>\n",
       "</table>\n",
       "</div>"
      ],
      "text/plain": [
       "          0         1         2         3         4         5         6  \\\n",
       "0 -0.426265 -1.692243  0.950464 -0.990463 -1.341357 -0.530507 -0.464146   \n",
       "1  1.529475  1.184807  1.180170 -1.059190  0.303816  0.593297 -1.228011   \n",
       "2 -2.157465 -0.118891 -0.217519 -0.965730 -0.745986 -0.312151 -0.301043   \n",
       "3 -1.326121 -1.238907  0.640513 -1.143539 -0.970721 -0.851058  0.432604   \n",
       "4 -1.243075  1.061611 -0.103996 -0.503463  0.045465  0.367741  1.584070   \n",
       "5  0.645327 -0.547901 -1.084323 -0.999856  3.362487 -1.244923  1.844160   \n",
       "6 -0.641971  2.054190  1.097403  0.944583  1.846788 -1.060956  1.642742   \n",
       "\n",
       "          7  \n",
       "0 -0.166658  \n",
       "1  0.082285  \n",
       "2 -0.119505  \n",
       "3  0.726825  \n",
       "4  0.205932  \n",
       "5  1.032974  \n",
       "6 -2.086889  "
      ]
     },
     "execution_count": 55,
     "metadata": {},
     "output_type": "execute_result"
    }
   ],
   "source": [
    "nimz=d.DataFrame(np.random.randn(7,8))\n",
    "nimz"
   ]
  },
  {
   "cell_type": "code",
   "execution_count": 96,
   "id": "51fe6864",
   "metadata": {},
   "outputs": [
    {
     "data": {
      "text/html": [
       "<div>\n",
       "<style scoped>\n",
       "    .dataframe tbody tr th:only-of-type {\n",
       "        vertical-align: middle;\n",
       "    }\n",
       "\n",
       "    .dataframe tbody tr th {\n",
       "        vertical-align: top;\n",
       "    }\n",
       "\n",
       "    .dataframe thead th {\n",
       "        text-align: right;\n",
       "    }\n",
       "</style>\n",
       "<table border=\"1\" class=\"dataframe\">\n",
       "  <thead>\n",
       "    <tr style=\"text-align: right;\">\n",
       "      <th></th>\n",
       "      <th>8</th>\n",
       "      <th>1</th>\n",
       "      <th>2</th>\n",
       "      <th>3</th>\n",
       "      <th>4</th>\n",
       "      <th>5</th>\n",
       "      <th>6</th>\n",
       "    </tr>\n",
       "  </thead>\n",
       "  <tbody>\n",
       "    <tr>\n",
       "      <th>0</th>\n",
       "      <td>-0.225851</td>\n",
       "      <td>0.459813</td>\n",
       "      <td>0.211324</td>\n",
       "      <td>-0.116313</td>\n",
       "      <td>0.282303</td>\n",
       "      <td>0.581439</td>\n",
       "      <td>1.183421</td>\n",
       "    </tr>\n",
       "    <tr>\n",
       "      <th>1</th>\n",
       "      <td>-0.640930</td>\n",
       "      <td>0.282178</td>\n",
       "      <td>-0.233662</td>\n",
       "      <td>1.114074</td>\n",
       "      <td>1.697670</td>\n",
       "      <td>-0.383991</td>\n",
       "      <td>-0.249601</td>\n",
       "    </tr>\n",
       "    <tr>\n",
       "      <th>2</th>\n",
       "      <td>1.153912</td>\n",
       "      <td>0.393273</td>\n",
       "      <td>-0.445781</td>\n",
       "      <td>0.947474</td>\n",
       "      <td>0.842691</td>\n",
       "      <td>-0.571656</td>\n",
       "      <td>-1.347565</td>\n",
       "    </tr>\n",
       "    <tr>\n",
       "      <th>3</th>\n",
       "      <td>-0.183715</td>\n",
       "      <td>1.442783</td>\n",
       "      <td>-0.054261</td>\n",
       "      <td>-0.328287</td>\n",
       "      <td>0.710866</td>\n",
       "      <td>-2.478363</td>\n",
       "      <td>1.288415</td>\n",
       "    </tr>\n",
       "    <tr>\n",
       "      <th>4</th>\n",
       "      <td>1.812905</td>\n",
       "      <td>-0.262238</td>\n",
       "      <td>0.489931</td>\n",
       "      <td>-0.818399</td>\n",
       "      <td>-0.687483</td>\n",
       "      <td>-0.588208</td>\n",
       "      <td>0.933097</td>\n",
       "    </tr>\n",
       "    <tr>\n",
       "      <th>5</th>\n",
       "      <td>-0.108748</td>\n",
       "      <td>1.175437</td>\n",
       "      <td>0.744696</td>\n",
       "      <td>1.032312</td>\n",
       "      <td>1.762239</td>\n",
       "      <td>1.421388</td>\n",
       "      <td>0.550744</td>\n",
       "    </tr>\n",
       "    <tr>\n",
       "      <th>6</th>\n",
       "      <td>0.509025</td>\n",
       "      <td>-1.248089</td>\n",
       "      <td>-0.642845</td>\n",
       "      <td>0.746987</td>\n",
       "      <td>1.029372</td>\n",
       "      <td>-0.521989</td>\n",
       "      <td>1.304913</td>\n",
       "    </tr>\n",
       "  </tbody>\n",
       "</table>\n",
       "</div>"
      ],
      "text/plain": [
       "          8         1         2         3         4         5         6\n",
       "0 -0.225851  0.459813  0.211324 -0.116313  0.282303  0.581439  1.183421\n",
       "1 -0.640930  0.282178 -0.233662  1.114074  1.697670 -0.383991 -0.249601\n",
       "2  1.153912  0.393273 -0.445781  0.947474  0.842691 -0.571656 -1.347565\n",
       "3 -0.183715  1.442783 -0.054261 -0.328287  0.710866 -2.478363  1.288415\n",
       "4  1.812905 -0.262238  0.489931 -0.818399 -0.687483 -0.588208  0.933097\n",
       "5 -0.108748  1.175437  0.744696  1.032312  1.762239  1.421388  0.550744\n",
       "6  0.509025 -1.248089 -0.642845  0.746987  1.029372 -0.521989  1.304913"
      ]
     },
     "execution_count": 96,
     "metadata": {},
     "output_type": "execute_result"
    }
   ],
   "source": [
    "#to rename any column / curly brackets are imp\n",
    "nimz.rename(columns={0:8})"
   ]
  },
  {
   "cell_type": "code",
   "execution_count": 70,
   "id": "5576708e",
   "metadata": {},
   "outputs": [
    {
     "data": {
      "text/html": [
       "<div>\n",
       "<style scoped>\n",
       "    .dataframe tbody tr th:only-of-type {\n",
       "        vertical-align: middle;\n",
       "    }\n",
       "\n",
       "    .dataframe tbody tr th {\n",
       "        vertical-align: top;\n",
       "    }\n",
       "\n",
       "    .dataframe thead th {\n",
       "        text-align: right;\n",
       "    }\n",
       "</style>\n",
       "<table border=\"1\" class=\"dataframe\">\n",
       "  <thead>\n",
       "    <tr style=\"text-align: right;\">\n",
       "      <th></th>\n",
       "      <th>1</th>\n",
       "      <th>2</th>\n",
       "      <th>3</th>\n",
       "      <th>4</th>\n",
       "      <th>5</th>\n",
       "      <th>6</th>\n",
       "      <th>7</th>\n",
       "    </tr>\n",
       "    <tr>\n",
       "      <th>0</th>\n",
       "      <th></th>\n",
       "      <th></th>\n",
       "      <th></th>\n",
       "      <th></th>\n",
       "      <th></th>\n",
       "      <th></th>\n",
       "      <th></th>\n",
       "    </tr>\n",
       "  </thead>\n",
       "  <tbody>\n",
       "    <tr>\n",
       "      <th>-0.426265</th>\n",
       "      <td>-1.692243</td>\n",
       "      <td>0.950464</td>\n",
       "      <td>-0.990463</td>\n",
       "      <td>-1.341357</td>\n",
       "      <td>-0.530507</td>\n",
       "      <td>-0.464146</td>\n",
       "      <td>-0.166658</td>\n",
       "    </tr>\n",
       "    <tr>\n",
       "      <th>1.529475</th>\n",
       "      <td>1.184807</td>\n",
       "      <td>1.180170</td>\n",
       "      <td>-1.059190</td>\n",
       "      <td>0.303816</td>\n",
       "      <td>0.593297</td>\n",
       "      <td>-1.228011</td>\n",
       "      <td>0.082285</td>\n",
       "    </tr>\n",
       "    <tr>\n",
       "      <th>-2.157465</th>\n",
       "      <td>-0.118891</td>\n",
       "      <td>-0.217519</td>\n",
       "      <td>-0.965730</td>\n",
       "      <td>-0.745986</td>\n",
       "      <td>-0.312151</td>\n",
       "      <td>-0.301043</td>\n",
       "      <td>-0.119505</td>\n",
       "    </tr>\n",
       "    <tr>\n",
       "      <th>-1.326121</th>\n",
       "      <td>-1.238907</td>\n",
       "      <td>0.640513</td>\n",
       "      <td>-1.143539</td>\n",
       "      <td>-0.970721</td>\n",
       "      <td>-0.851058</td>\n",
       "      <td>0.432604</td>\n",
       "      <td>0.726825</td>\n",
       "    </tr>\n",
       "    <tr>\n",
       "      <th>-1.243075</th>\n",
       "      <td>1.061611</td>\n",
       "      <td>-0.103996</td>\n",
       "      <td>-0.503463</td>\n",
       "      <td>0.045465</td>\n",
       "      <td>0.367741</td>\n",
       "      <td>1.584070</td>\n",
       "      <td>0.205932</td>\n",
       "    </tr>\n",
       "    <tr>\n",
       "      <th>0.645327</th>\n",
       "      <td>-0.547901</td>\n",
       "      <td>-1.084323</td>\n",
       "      <td>-0.999856</td>\n",
       "      <td>3.362487</td>\n",
       "      <td>-1.244923</td>\n",
       "      <td>1.844160</td>\n",
       "      <td>1.032974</td>\n",
       "    </tr>\n",
       "    <tr>\n",
       "      <th>-0.641971</th>\n",
       "      <td>2.054190</td>\n",
       "      <td>1.097403</td>\n",
       "      <td>0.944583</td>\n",
       "      <td>1.846788</td>\n",
       "      <td>-1.060956</td>\n",
       "      <td>1.642742</td>\n",
       "      <td>-2.086889</td>\n",
       "    </tr>\n",
       "  </tbody>\n",
       "</table>\n",
       "</div>"
      ],
      "text/plain": [
       "                  1         2         3         4         5         6  \\\n",
       "0                                                                       \n",
       "-0.426265 -1.692243  0.950464 -0.990463 -1.341357 -0.530507 -0.464146   \n",
       " 1.529475  1.184807  1.180170 -1.059190  0.303816  0.593297 -1.228011   \n",
       "-2.157465 -0.118891 -0.217519 -0.965730 -0.745986 -0.312151 -0.301043   \n",
       "-1.326121 -1.238907  0.640513 -1.143539 -0.970721 -0.851058  0.432604   \n",
       "-1.243075  1.061611 -0.103996 -0.503463  0.045465  0.367741  1.584070   \n",
       " 0.645327 -0.547901 -1.084323 -0.999856  3.362487 -1.244923  1.844160   \n",
       "-0.641971  2.054190  1.097403  0.944583  1.846788 -1.060956  1.642742   \n",
       "\n",
       "                  7  \n",
       "0                    \n",
       "-0.426265 -0.166658  \n",
       " 1.529475  0.082285  \n",
       "-2.157465 -0.119505  \n",
       "-1.326121  0.726825  \n",
       "-1.243075  0.205932  \n",
       " 0.645327  1.032974  \n",
       "-0.641971 -2.086889  "
      ]
     },
     "execution_count": 70,
     "metadata": {},
     "output_type": "execute_result"
    }
   ],
   "source": [
    "#setting any column as index\n",
    "nimz.set_index(0)"
   ]
  },
  {
   "cell_type": "code",
   "execution_count": 84,
   "id": "8f901a3c",
   "metadata": {},
   "outputs": [
    {
     "data": {
      "text/html": [
       "<div>\n",
       "<style scoped>\n",
       "    .dataframe tbody tr th:only-of-type {\n",
       "        vertical-align: middle;\n",
       "    }\n",
       "\n",
       "    .dataframe tbody tr th {\n",
       "        vertical-align: top;\n",
       "    }\n",
       "\n",
       "    .dataframe thead th {\n",
       "        text-align: right;\n",
       "    }\n",
       "</style>\n",
       "<table border=\"1\" class=\"dataframe\">\n",
       "  <thead>\n",
       "    <tr style=\"text-align: right;\">\n",
       "      <th></th>\n",
       "      <th>0</th>\n",
       "      <th>3</th>\n",
       "      <th>5</th>\n",
       "      <th>6</th>\n",
       "      <th>7</th>\n",
       "    </tr>\n",
       "    <tr>\n",
       "      <th>4</th>\n",
       "      <th></th>\n",
       "      <th></th>\n",
       "      <th></th>\n",
       "      <th></th>\n",
       "      <th></th>\n",
       "    </tr>\n",
       "  </thead>\n",
       "  <tbody>\n",
       "    <tr>\n",
       "      <th>-1.341357</th>\n",
       "      <td>-0.426265</td>\n",
       "      <td>-0.990463</td>\n",
       "      <td>-0.530507</td>\n",
       "      <td>-0.464146</td>\n",
       "      <td>-0.166658</td>\n",
       "    </tr>\n",
       "    <tr>\n",
       "      <th>0.303816</th>\n",
       "      <td>1.529475</td>\n",
       "      <td>-1.059190</td>\n",
       "      <td>0.593297</td>\n",
       "      <td>-1.228011</td>\n",
       "      <td>0.082285</td>\n",
       "    </tr>\n",
       "    <tr>\n",
       "      <th>-0.745986</th>\n",
       "      <td>-2.157465</td>\n",
       "      <td>-0.965730</td>\n",
       "      <td>-0.312151</td>\n",
       "      <td>-0.301043</td>\n",
       "      <td>-0.119505</td>\n",
       "    </tr>\n",
       "    <tr>\n",
       "      <th>-0.970721</th>\n",
       "      <td>-1.326121</td>\n",
       "      <td>-1.143539</td>\n",
       "      <td>-0.851058</td>\n",
       "      <td>0.432604</td>\n",
       "      <td>0.726825</td>\n",
       "    </tr>\n",
       "    <tr>\n",
       "      <th>0.045465</th>\n",
       "      <td>-1.243075</td>\n",
       "      <td>-0.503463</td>\n",
       "      <td>0.367741</td>\n",
       "      <td>1.584070</td>\n",
       "      <td>0.205932</td>\n",
       "    </tr>\n",
       "    <tr>\n",
       "      <th>3.362487</th>\n",
       "      <td>0.645327</td>\n",
       "      <td>-0.999856</td>\n",
       "      <td>-1.244923</td>\n",
       "      <td>1.844160</td>\n",
       "      <td>1.032974</td>\n",
       "    </tr>\n",
       "    <tr>\n",
       "      <th>1.846788</th>\n",
       "      <td>-0.641971</td>\n",
       "      <td>0.944583</td>\n",
       "      <td>-1.060956</td>\n",
       "      <td>1.642742</td>\n",
       "      <td>-2.086889</td>\n",
       "    </tr>\n",
       "  </tbody>\n",
       "</table>\n",
       "</div>"
      ],
      "text/plain": [
       "                  0         3         5         6         7\n",
       "4                                                          \n",
       "-1.341357 -0.426265 -0.990463 -0.530507 -0.464146 -0.166658\n",
       " 0.303816  1.529475 -1.059190  0.593297 -1.228011  0.082285\n",
       "-0.745986 -2.157465 -0.965730 -0.312151 -0.301043 -0.119505\n",
       "-0.970721 -1.326121 -1.143539 -0.851058  0.432604  0.726825\n",
       " 0.045465 -1.243075 -0.503463  0.367741  1.584070  0.205932\n",
       " 3.362487  0.645327 -0.999856 -1.244923  1.844160  1.032974\n",
       " 1.846788 -0.641971  0.944583 -1.060956  1.642742 -2.086889"
      ]
     },
     "execution_count": 84,
     "metadata": {},
     "output_type": "execute_result"
    }
   ],
   "source": [
    "nimz.set_index(3)\n",
    "nimz"
   ]
  },
  {
   "cell_type": "code",
   "execution_count": 3,
   "id": "d3a3a6f9",
   "metadata": {},
   "outputs": [
    {
     "ename": "NameError",
     "evalue": "name 'd' is not defined",
     "output_type": "error",
     "traceback": [
      "\u001b[1;31m---------------------------------------------------------------------------\u001b[0m",
      "\u001b[1;31mNameError\u001b[0m                                 Traceback (most recent call last)",
      "\u001b[1;32m~\\AppData\\Local\\Temp\\ipykernel_11148\\3095557988.py\u001b[0m in \u001b[0;36m<module>\u001b[1;34m\u001b[0m\n\u001b[1;32m----> 1\u001b[1;33m \u001b[0mnimz\u001b[0m\u001b[1;33m=\u001b[0m\u001b[0md\u001b[0m\u001b[1;33m.\u001b[0m\u001b[0mDataFrame\u001b[0m\u001b[1;33m(\u001b[0m\u001b[0mnp\u001b[0m\u001b[1;33m.\u001b[0m\u001b[0mrandom\u001b[0m\u001b[1;33m.\u001b[0m\u001b[0mrandn\u001b[0m\u001b[1;33m(\u001b[0m\u001b[1;36m7\u001b[0m\u001b[1;33m,\u001b[0m\u001b[1;36m7\u001b[0m\u001b[1;33m)\u001b[0m\u001b[1;33m)\u001b[0m\u001b[1;33m\u001b[0m\u001b[1;33m\u001b[0m\u001b[0m\n\u001b[0m\u001b[0;32m      2\u001b[0m \u001b[0mnimz\u001b[0m\u001b[1;33m\u001b[0m\u001b[1;33m\u001b[0m\u001b[0m\n",
      "\u001b[1;31mNameError\u001b[0m: name 'd' is not defined"
     ]
    }
   ],
   "source": [
    "nimz=d.DataFrame(np.random.randn(7,7))\n",
    "nimz"
   ]
  },
  {
   "cell_type": "code",
   "execution_count": 90,
   "id": "205a378c",
   "metadata": {},
   "outputs": [
    {
     "data": {
      "text/html": [
       "<div>\n",
       "<style scoped>\n",
       "    .dataframe tbody tr th:only-of-type {\n",
       "        vertical-align: middle;\n",
       "    }\n",
       "\n",
       "    .dataframe tbody tr th {\n",
       "        vertical-align: top;\n",
       "    }\n",
       "\n",
       "    .dataframe thead th {\n",
       "        text-align: right;\n",
       "    }\n",
       "</style>\n",
       "<table border=\"1\" class=\"dataframe\">\n",
       "  <thead>\n",
       "    <tr style=\"text-align: right;\">\n",
       "      <th></th>\n",
       "      <th>0</th>\n",
       "      <th>1</th>\n",
       "      <th>2</th>\n",
       "      <th>3</th>\n",
       "      <th>4</th>\n",
       "      <th>5</th>\n",
       "      <th>6</th>\n",
       "    </tr>\n",
       "  </thead>\n",
       "  <tbody>\n",
       "    <tr>\n",
       "      <th>2</th>\n",
       "      <td>1.153912</td>\n",
       "      <td>0.393273</td>\n",
       "      <td>-0.445781</td>\n",
       "      <td>0.947474</td>\n",
       "      <td>0.842691</td>\n",
       "      <td>-0.571656</td>\n",
       "      <td>-1.347565</td>\n",
       "    </tr>\n",
       "    <tr>\n",
       "      <th>3</th>\n",
       "      <td>-0.183715</td>\n",
       "      <td>1.442783</td>\n",
       "      <td>-0.054261</td>\n",
       "      <td>-0.328287</td>\n",
       "      <td>0.710866</td>\n",
       "      <td>-2.478363</td>\n",
       "      <td>1.288415</td>\n",
       "    </tr>\n",
       "    <tr>\n",
       "      <th>4</th>\n",
       "      <td>1.812905</td>\n",
       "      <td>-0.262238</td>\n",
       "      <td>0.489931</td>\n",
       "      <td>-0.818399</td>\n",
       "      <td>-0.687483</td>\n",
       "      <td>-0.588208</td>\n",
       "      <td>0.933097</td>\n",
       "    </tr>\n",
       "    <tr>\n",
       "      <th>5</th>\n",
       "      <td>-0.108748</td>\n",
       "      <td>1.175437</td>\n",
       "      <td>0.744696</td>\n",
       "      <td>1.032312</td>\n",
       "      <td>1.762239</td>\n",
       "      <td>1.421388</td>\n",
       "      <td>0.550744</td>\n",
       "    </tr>\n",
       "    <tr>\n",
       "      <th>6</th>\n",
       "      <td>0.509025</td>\n",
       "      <td>-1.248089</td>\n",
       "      <td>-0.642845</td>\n",
       "      <td>0.746987</td>\n",
       "      <td>1.029372</td>\n",
       "      <td>-0.521989</td>\n",
       "      <td>1.304913</td>\n",
       "    </tr>\n",
       "  </tbody>\n",
       "</table>\n",
       "</div>"
      ],
      "text/plain": [
       "          0         1         2         3         4         5         6\n",
       "2  1.153912  0.393273 -0.445781  0.947474  0.842691 -0.571656 -1.347565\n",
       "3 -0.183715  1.442783 -0.054261 -0.328287  0.710866 -2.478363  1.288415\n",
       "4  1.812905 -0.262238  0.489931 -0.818399 -0.687483 -0.588208  0.933097\n",
       "5 -0.108748  1.175437  0.744696  1.032312  1.762239  1.421388  0.550744\n",
       "6  0.509025 -1.248089 -0.642845  0.746987  1.029372 -0.521989  1.304913"
      ]
     },
     "execution_count": 90,
     "metadata": {},
     "output_type": "execute_result"
    }
   ],
   "source": [
    "#tail and head functions to see the top or bottom 'n' no. of rows (default is 5)\n",
    "nimz.tail()"
   ]
  },
  {
   "cell_type": "code",
   "execution_count": 91,
   "id": "665197c4",
   "metadata": {},
   "outputs": [
    {
     "data": {
      "text/html": [
       "<div>\n",
       "<style scoped>\n",
       "    .dataframe tbody tr th:only-of-type {\n",
       "        vertical-align: middle;\n",
       "    }\n",
       "\n",
       "    .dataframe tbody tr th {\n",
       "        vertical-align: top;\n",
       "    }\n",
       "\n",
       "    .dataframe thead th {\n",
       "        text-align: right;\n",
       "    }\n",
       "</style>\n",
       "<table border=\"1\" class=\"dataframe\">\n",
       "  <thead>\n",
       "    <tr style=\"text-align: right;\">\n",
       "      <th></th>\n",
       "      <th>0</th>\n",
       "      <th>1</th>\n",
       "      <th>2</th>\n",
       "      <th>3</th>\n",
       "      <th>4</th>\n",
       "      <th>5</th>\n",
       "      <th>6</th>\n",
       "    </tr>\n",
       "  </thead>\n",
       "  <tbody>\n",
       "    <tr>\n",
       "      <th>0</th>\n",
       "      <td>-0.225851</td>\n",
       "      <td>0.459813</td>\n",
       "      <td>0.211324</td>\n",
       "      <td>-0.116313</td>\n",
       "      <td>0.282303</td>\n",
       "      <td>0.581439</td>\n",
       "      <td>1.183421</td>\n",
       "    </tr>\n",
       "    <tr>\n",
       "      <th>1</th>\n",
       "      <td>-0.640930</td>\n",
       "      <td>0.282178</td>\n",
       "      <td>-0.233662</td>\n",
       "      <td>1.114074</td>\n",
       "      <td>1.697670</td>\n",
       "      <td>-0.383991</td>\n",
       "      <td>-0.249601</td>\n",
       "    </tr>\n",
       "    <tr>\n",
       "      <th>2</th>\n",
       "      <td>1.153912</td>\n",
       "      <td>0.393273</td>\n",
       "      <td>-0.445781</td>\n",
       "      <td>0.947474</td>\n",
       "      <td>0.842691</td>\n",
       "      <td>-0.571656</td>\n",
       "      <td>-1.347565</td>\n",
       "    </tr>\n",
       "    <tr>\n",
       "      <th>3</th>\n",
       "      <td>-0.183715</td>\n",
       "      <td>1.442783</td>\n",
       "      <td>-0.054261</td>\n",
       "      <td>-0.328287</td>\n",
       "      <td>0.710866</td>\n",
       "      <td>-2.478363</td>\n",
       "      <td>1.288415</td>\n",
       "    </tr>\n",
       "    <tr>\n",
       "      <th>4</th>\n",
       "      <td>1.812905</td>\n",
       "      <td>-0.262238</td>\n",
       "      <td>0.489931</td>\n",
       "      <td>-0.818399</td>\n",
       "      <td>-0.687483</td>\n",
       "      <td>-0.588208</td>\n",
       "      <td>0.933097</td>\n",
       "    </tr>\n",
       "  </tbody>\n",
       "</table>\n",
       "</div>"
      ],
      "text/plain": [
       "          0         1         2         3         4         5         6\n",
       "0 -0.225851  0.459813  0.211324 -0.116313  0.282303  0.581439  1.183421\n",
       "1 -0.640930  0.282178 -0.233662  1.114074  1.697670 -0.383991 -0.249601\n",
       "2  1.153912  0.393273 -0.445781  0.947474  0.842691 -0.571656 -1.347565\n",
       "3 -0.183715  1.442783 -0.054261 -0.328287  0.710866 -2.478363  1.288415\n",
       "4  1.812905 -0.262238  0.489931 -0.818399 -0.687483 -0.588208  0.933097"
      ]
     },
     "execution_count": 91,
     "metadata": {},
     "output_type": "execute_result"
    }
   ],
   "source": [
    "nimz.head()"
   ]
  },
  {
   "cell_type": "code",
   "execution_count": 92,
   "id": "ded9dd39",
   "metadata": {},
   "outputs": [
    {
     "data": {
      "text/html": [
       "<div>\n",
       "<style scoped>\n",
       "    .dataframe tbody tr th:only-of-type {\n",
       "        vertical-align: middle;\n",
       "    }\n",
       "\n",
       "    .dataframe tbody tr th {\n",
       "        vertical-align: top;\n",
       "    }\n",
       "\n",
       "    .dataframe thead th {\n",
       "        text-align: right;\n",
       "    }\n",
       "</style>\n",
       "<table border=\"1\" class=\"dataframe\">\n",
       "  <thead>\n",
       "    <tr style=\"text-align: right;\">\n",
       "      <th></th>\n",
       "      <th>0</th>\n",
       "      <th>1</th>\n",
       "      <th>2</th>\n",
       "      <th>3</th>\n",
       "      <th>4</th>\n",
       "      <th>5</th>\n",
       "      <th>6</th>\n",
       "    </tr>\n",
       "  </thead>\n",
       "  <tbody>\n",
       "    <tr>\n",
       "      <th>0</th>\n",
       "      <td>-0.225851</td>\n",
       "      <td>0.459813</td>\n",
       "      <td>0.211324</td>\n",
       "      <td>-0.116313</td>\n",
       "      <td>0.282303</td>\n",
       "      <td>0.581439</td>\n",
       "      <td>1.183421</td>\n",
       "    </tr>\n",
       "    <tr>\n",
       "      <th>1</th>\n",
       "      <td>-0.640930</td>\n",
       "      <td>0.282178</td>\n",
       "      <td>-0.233662</td>\n",
       "      <td>1.114074</td>\n",
       "      <td>1.697670</td>\n",
       "      <td>-0.383991</td>\n",
       "      <td>-0.249601</td>\n",
       "    </tr>\n",
       "    <tr>\n",
       "      <th>2</th>\n",
       "      <td>1.153912</td>\n",
       "      <td>0.393273</td>\n",
       "      <td>-0.445781</td>\n",
       "      <td>0.947474</td>\n",
       "      <td>0.842691</td>\n",
       "      <td>-0.571656</td>\n",
       "      <td>-1.347565</td>\n",
       "    </tr>\n",
       "    <tr>\n",
       "      <th>3</th>\n",
       "      <td>-0.183715</td>\n",
       "      <td>1.442783</td>\n",
       "      <td>-0.054261</td>\n",
       "      <td>-0.328287</td>\n",
       "      <td>0.710866</td>\n",
       "      <td>-2.478363</td>\n",
       "      <td>1.288415</td>\n",
       "    </tr>\n",
       "    <tr>\n",
       "      <th>4</th>\n",
       "      <td>1.812905</td>\n",
       "      <td>-0.262238</td>\n",
       "      <td>0.489931</td>\n",
       "      <td>-0.818399</td>\n",
       "      <td>-0.687483</td>\n",
       "      <td>-0.588208</td>\n",
       "      <td>0.933097</td>\n",
       "    </tr>\n",
       "    <tr>\n",
       "      <th>5</th>\n",
       "      <td>-0.108748</td>\n",
       "      <td>1.175437</td>\n",
       "      <td>0.744696</td>\n",
       "      <td>1.032312</td>\n",
       "      <td>1.762239</td>\n",
       "      <td>1.421388</td>\n",
       "      <td>0.550744</td>\n",
       "    </tr>\n",
       "    <tr>\n",
       "      <th>6</th>\n",
       "      <td>0.509025</td>\n",
       "      <td>-1.248089</td>\n",
       "      <td>-0.642845</td>\n",
       "      <td>0.746987</td>\n",
       "      <td>1.029372</td>\n",
       "      <td>-0.521989</td>\n",
       "      <td>1.304913</td>\n",
       "    </tr>\n",
       "  </tbody>\n",
       "</table>\n",
       "</div>"
      ],
      "text/plain": [
       "          0         1         2         3         4         5         6\n",
       "0 -0.225851  0.459813  0.211324 -0.116313  0.282303  0.581439  1.183421\n",
       "1 -0.640930  0.282178 -0.233662  1.114074  1.697670 -0.383991 -0.249601\n",
       "2  1.153912  0.393273 -0.445781  0.947474  0.842691 -0.571656 -1.347565\n",
       "3 -0.183715  1.442783 -0.054261 -0.328287  0.710866 -2.478363  1.288415\n",
       "4  1.812905 -0.262238  0.489931 -0.818399 -0.687483 -0.588208  0.933097\n",
       "5 -0.108748  1.175437  0.744696  1.032312  1.762239  1.421388  0.550744\n",
       "6  0.509025 -1.248089 -0.642845  0.746987  1.029372 -0.521989  1.304913"
      ]
     },
     "execution_count": 92,
     "metadata": {},
     "output_type": "execute_result"
    }
   ],
   "source": [
    "nimz.head(7)"
   ]
  },
  {
   "cell_type": "code",
   "execution_count": 93,
   "id": "031a5130",
   "metadata": {},
   "outputs": [
    {
     "data": {
      "text/html": [
       "<div>\n",
       "<style scoped>\n",
       "    .dataframe tbody tr th:only-of-type {\n",
       "        vertical-align: middle;\n",
       "    }\n",
       "\n",
       "    .dataframe tbody tr th {\n",
       "        vertical-align: top;\n",
       "    }\n",
       "\n",
       "    .dataframe thead th {\n",
       "        text-align: right;\n",
       "    }\n",
       "</style>\n",
       "<table border=\"1\" class=\"dataframe\">\n",
       "  <thead>\n",
       "    <tr style=\"text-align: right;\">\n",
       "      <th></th>\n",
       "      <th>0</th>\n",
       "      <th>1</th>\n",
       "      <th>2</th>\n",
       "      <th>3</th>\n",
       "      <th>4</th>\n",
       "      <th>5</th>\n",
       "      <th>6</th>\n",
       "    </tr>\n",
       "  </thead>\n",
       "  <tbody>\n",
       "    <tr>\n",
       "      <th>5</th>\n",
       "      <td>-0.108748</td>\n",
       "      <td>1.175437</td>\n",
       "      <td>0.744696</td>\n",
       "      <td>1.032312</td>\n",
       "      <td>1.762239</td>\n",
       "      <td>1.421388</td>\n",
       "      <td>0.550744</td>\n",
       "    </tr>\n",
       "  </tbody>\n",
       "</table>\n",
       "</div>"
      ],
      "text/plain": [
       "          0         1         2         3         4         5         6\n",
       "5 -0.108748  1.175437  0.744696  1.032312  1.762239  1.421388  0.550744"
      ]
     },
     "execution_count": 93,
     "metadata": {},
     "output_type": "execute_result"
    }
   ],
   "source": [
    "#sample() function- to see any random row(s)\n",
    "nimz.sample()"
   ]
  },
  {
   "cell_type": "code",
   "execution_count": 94,
   "id": "efb71ff5",
   "metadata": {},
   "outputs": [
    {
     "data": {
      "text/html": [
       "<div>\n",
       "<style scoped>\n",
       "    .dataframe tbody tr th:only-of-type {\n",
       "        vertical-align: middle;\n",
       "    }\n",
       "\n",
       "    .dataframe tbody tr th {\n",
       "        vertical-align: top;\n",
       "    }\n",
       "\n",
       "    .dataframe thead th {\n",
       "        text-align: right;\n",
       "    }\n",
       "</style>\n",
       "<table border=\"1\" class=\"dataframe\">\n",
       "  <thead>\n",
       "    <tr style=\"text-align: right;\">\n",
       "      <th></th>\n",
       "      <th>0</th>\n",
       "      <th>1</th>\n",
       "      <th>2</th>\n",
       "      <th>3</th>\n",
       "      <th>4</th>\n",
       "      <th>5</th>\n",
       "      <th>6</th>\n",
       "    </tr>\n",
       "  </thead>\n",
       "  <tbody>\n",
       "    <tr>\n",
       "      <th>6</th>\n",
       "      <td>0.509025</td>\n",
       "      <td>-1.248089</td>\n",
       "      <td>-0.642845</td>\n",
       "      <td>0.746987</td>\n",
       "      <td>1.029372</td>\n",
       "      <td>-0.521989</td>\n",
       "      <td>1.304913</td>\n",
       "    </tr>\n",
       "    <tr>\n",
       "      <th>2</th>\n",
       "      <td>1.153912</td>\n",
       "      <td>0.393273</td>\n",
       "      <td>-0.445781</td>\n",
       "      <td>0.947474</td>\n",
       "      <td>0.842691</td>\n",
       "      <td>-0.571656</td>\n",
       "      <td>-1.347565</td>\n",
       "    </tr>\n",
       "    <tr>\n",
       "      <th>0</th>\n",
       "      <td>-0.225851</td>\n",
       "      <td>0.459813</td>\n",
       "      <td>0.211324</td>\n",
       "      <td>-0.116313</td>\n",
       "      <td>0.282303</td>\n",
       "      <td>0.581439</td>\n",
       "      <td>1.183421</td>\n",
       "    </tr>\n",
       "  </tbody>\n",
       "</table>\n",
       "</div>"
      ],
      "text/plain": [
       "          0         1         2         3         4         5         6\n",
       "6  0.509025 -1.248089 -0.642845  0.746987  1.029372 -0.521989  1.304913\n",
       "2  1.153912  0.393273 -0.445781  0.947474  0.842691 -0.571656 -1.347565\n",
       "0 -0.225851  0.459813  0.211324 -0.116313  0.282303  0.581439  1.183421"
      ]
     },
     "execution_count": 94,
     "metadata": {},
     "output_type": "execute_result"
    }
   ],
   "source": [
    "nimz.sample(3)"
   ]
  },
  {
   "cell_type": "markdown",
   "id": "4fadbf32",
   "metadata": {},
   "source": [
    "# DATA VISUALIZATION\n"
   ]
  },
  {
   "cell_type": "code",
   "execution_count": 35,
   "id": "89a5c378",
   "metadata": {},
   "outputs": [],
   "source": [
    "d=[[1,8,7,6],[2,5,6,9],[8,9,2.6,4]]"
   ]
  },
  {
   "cell_type": "code",
   "execution_count": 36,
   "id": "098c8602",
   "metadata": {},
   "outputs": [],
   "source": [
    "df=pd.DataFrame(d,columns=[1,2,3,4])\n"
   ]
  },
  {
   "cell_type": "code",
   "execution_count": 37,
   "id": "8b71ec70",
   "metadata": {},
   "outputs": [
    {
     "data": {
      "text/html": [
       "<div>\n",
       "<style scoped>\n",
       "    .dataframe tbody tr th:only-of-type {\n",
       "        vertical-align: middle;\n",
       "    }\n",
       "\n",
       "    .dataframe tbody tr th {\n",
       "        vertical-align: top;\n",
       "    }\n",
       "\n",
       "    .dataframe thead th {\n",
       "        text-align: right;\n",
       "    }\n",
       "</style>\n",
       "<table border=\"1\" class=\"dataframe\">\n",
       "  <thead>\n",
       "    <tr style=\"text-align: right;\">\n",
       "      <th></th>\n",
       "      <th>1</th>\n",
       "      <th>2</th>\n",
       "      <th>3</th>\n",
       "      <th>4</th>\n",
       "    </tr>\n",
       "  </thead>\n",
       "  <tbody>\n",
       "    <tr>\n",
       "      <th>0</th>\n",
       "      <td>1</td>\n",
       "      <td>8</td>\n",
       "      <td>7.0</td>\n",
       "      <td>6</td>\n",
       "    </tr>\n",
       "    <tr>\n",
       "      <th>1</th>\n",
       "      <td>2</td>\n",
       "      <td>5</td>\n",
       "      <td>6.0</td>\n",
       "      <td>9</td>\n",
       "    </tr>\n",
       "    <tr>\n",
       "      <th>2</th>\n",
       "      <td>8</td>\n",
       "      <td>9</td>\n",
       "      <td>2.6</td>\n",
       "      <td>4</td>\n",
       "    </tr>\n",
       "  </tbody>\n",
       "</table>\n",
       "</div>"
      ],
      "text/plain": [
       "   1  2    3  4\n",
       "0  1  8  7.0  6\n",
       "1  2  5  6.0  9\n",
       "2  8  9  2.6  4"
      ]
     },
     "execution_count": 37,
     "metadata": {},
     "output_type": "execute_result"
    }
   ],
   "source": [
    "df"
   ]
  },
  {
   "cell_type": "code",
   "execution_count": 24,
   "id": "95713468",
   "metadata": {},
   "outputs": [
    {
     "data": {
      "text/plain": [
       "<AxesSubplot:>"
      ]
     },
     "execution_count": 24,
     "metadata": {},
     "output_type": "execute_result"
    },
    {
     "data": {
      "image/png": "[encoded data removed]",
      "text/plain": [
       "<Figure size 640x480 with 1 Axes>"
      ]
     },
     "metadata": {},
     "output_type": "display_data"
    }
   ],
   "source": [
    "#bar graph (vertical is default)\n",
    "df.plot.bar()"
   ]
  },
  {
   "cell_type": "code",
   "execution_count": 26,
   "id": "d2a59955",
   "metadata": {},
   "outputs": [
    {
     "data": {
      "text/plain": [
       "<AxesSubplot:ylabel='Frequency'>"
      ]
     },
     "execution_count": 26,
     "metadata": {},
     "output_type": "execute_result"
    },
    {
     "data": {
      "image/png": "[encoded data removed]",
      "text/plain": [
       "<Figure size 640x480 with 1 Axes>"
      ]
     },
     "metadata": {},
     "output_type": "display_data"
    }
   ],
   "source": [
    "#histogram\n",
    "df.plot.hist()"
   ]
  },
  {
   "cell_type": "code",
   "execution_count": 29,
   "id": "1ce4ea50",
   "metadata": {},
   "outputs": [
    {
     "data": {
      "text/plain": [
       "<AxesSubplot:xlabel='3', ylabel='4'>"
      ]
     },
     "execution_count": 29,
     "metadata": {},
     "output_type": "execute_result"
    },
    {
     "data": {
      "image/png": "[encoded data removed]",
      "text/plain": [
       "<Figure size 640x480 with 1 Axes>"
      ]
     },
     "metadata": {},
     "output_type": "display_data"
    }
   ],
   "source": [
    "#scatter graph, only 2 columns can used\n",
    "df.plot.scatter(x=3,y=4)"
   ]
  },
  {
   "cell_type": "code",
   "execution_count": 38,
   "id": "cfbaf5c0",
   "metadata": {},
   "outputs": [
    {
     "data": {
      "text/plain": [
       "<AxesSubplot:>"
      ]
     },
     "execution_count": 38,
     "metadata": {},
     "output_type": "execute_result"
    },
    {
     "data": {
      "image/png": "[encoded data removed]",
      "text/plain": [
       "<Figure size 640x480 with 1 Axes>"
      ]
     },
     "metadata": {},
     "output_type": "display_data"
    }
   ],
   "source": [
    "#box plot\n",
    "df.plot.box()"
   ]
  },
  {
   "cell_type": "code",
   "execution_count": 41,
   "id": "ed7e6002",
   "metadata": {},
   "outputs": [
    {
     "data": {
      "text/plain": [
       "<AxesSubplot:>"
      ]
     },
     "execution_count": 41,
     "metadata": {},
     "output_type": "execute_result"
    },
    {
     "data": {
      "image/png": "[encoded data removed]",
      "text/plain": [
       "<Figure size 640x480 with 1 Axes>"
      ]
     },
     "metadata": {},
     "output_type": "display_data"
    }
   ],
   "source": [
    "#horizonal bar graph\n",
    "df.plot.barh()"
   ]
  },
  {
   "cell_type": "code",
   "execution_count": 42,
   "id": "9ab7eee0",
   "metadata": {},
   "outputs": [
    {
     "data": {
      "text/plain": [
       "<AxesSubplot:>"
      ]
     },
     "execution_count": 42,
     "metadata": {},
     "output_type": "execute_result"
    },
    {
     "data": {
      "image/png": "[encoded data removed]",
      "text/plain": [
       "<Figure size 640x480 with 1 Axes>"
      ]
     },
     "metadata": {},
     "output_type": "display_data"
    }
   ],
   "source": [
    "#bar graph in stacked manner\n",
    "df.plot.bar(stacked=True)"
   ]
  },
  {
   "cell_type": "markdown",
   "id": "6de82c59",
   "metadata": {},
   "source": [
    "# Input/Output\n"
   ]
  },
  {
   "cell_type": "code",
   "execution_count": 66,
   "id": "cc0635c6",
   "metadata": {},
   "outputs": [],
   "source": [
    "#to load a csv file in panda (data is seperated by commas by default)\n",
    "df=pd.read_csv('Students_details.csv',sep=',')"
   ]
  },
  {
   "cell_type": "code",
   "execution_count": 61,
   "id": "39e6c814",
   "metadata": {},
   "outputs": [
    {
     "data": {
      "text/html": [
       "<div>\n",
       "<style scoped>\n",
       "    .dataframe tbody tr th:only-of-type {\n",
       "        vertical-align: middle;\n",
       "    }\n",
       "\n",
       "    .dataframe tbody tr th {\n",
       "        vertical-align: top;\n",
       "    }\n",
       "\n",
       "    .dataframe thead th {\n",
       "        text-align: right;\n",
       "    }\n",
       "</style>\n",
       "<table border=\"1\" class=\"dataframe\">\n",
       "  <thead>\n",
       "    <tr style=\"text-align: right;\">\n",
       "      <th></th>\n",
       "      <th>9988776604</th>\n",
       "      <th>Salah</th>\n",
       "      <th>DOB</th>\n",
       "      <th>85</th>\n",
       "    </tr>\n",
       "  </thead>\n",
       "  <tbody>\n",
       "    <tr>\n",
       "      <th>0</th>\n",
       "      <td>9988776605</td>\n",
       "      <td>Heung-Son</td>\n",
       "      <td>21-06-2020</td>\n",
       "      <td>39</td>\n",
       "    </tr>\n",
       "    <tr>\n",
       "      <th>1</th>\n",
       "      <td>9988776606</td>\n",
       "      <td>Ronaldo</td>\n",
       "      <td>08-05-2020</td>\n",
       "      <td>86</td>\n",
       "    </tr>\n",
       "    <tr>\n",
       "      <th>2</th>\n",
       "      <td>9988776607</td>\n",
       "      <td>Kane</td>\n",
       "      <td>11-05-2022</td>\n",
       "      <td>57</td>\n",
       "    </tr>\n",
       "    <tr>\n",
       "      <th>3</th>\n",
       "      <td>9988776608</td>\n",
       "      <td>Mane</td>\n",
       "      <td>17-05-2022</td>\n",
       "      <td>52</td>\n",
       "    </tr>\n",
       "    <tr>\n",
       "      <th>4</th>\n",
       "      <td>6609998877</td>\n",
       "      <td>Vardy</td>\n",
       "      <td>17-12-2020</td>\n",
       "      <td>54</td>\n",
       "    </tr>\n",
       "    <tr>\n",
       "      <th>5</th>\n",
       "      <td>6609998878</td>\n",
       "      <td>Jota</td>\n",
       "      <td>06-11-2021</td>\n",
       "      <td>45</td>\n",
       "    </tr>\n",
       "    <tr>\n",
       "      <th>6</th>\n",
       "      <td>6609998879</td>\n",
       "      <td>Bruyne</td>\n",
       "      <td>26-11-2020</td>\n",
       "      <td>49</td>\n",
       "    </tr>\n",
       "    <tr>\n",
       "      <th>7</th>\n",
       "      <td>6609998880</td>\n",
       "      <td>Zaha</td>\n",
       "      <td>05-12-2020</td>\n",
       "      <td>88</td>\n",
       "    </tr>\n",
       "    <tr>\n",
       "      <th>8</th>\n",
       "      <td>6609998881</td>\n",
       "      <td>Sterling</td>\n",
       "      <td>29-10-2020</td>\n",
       "      <td>61</td>\n",
       "    </tr>\n",
       "    <tr>\n",
       "      <th>9</th>\n",
       "      <td>9988776614</td>\n",
       "      <td>Toney</td>\n",
       "      <td>31-03-2022</td>\n",
       "      <td>71</td>\n",
       "    </tr>\n",
       "    <tr>\n",
       "      <th>10</th>\n",
       "      <td>9988776615</td>\n",
       "      <td>Maddison</td>\n",
       "      <td>10-03-2020</td>\n",
       "      <td>44</td>\n",
       "    </tr>\n",
       "    <tr>\n",
       "      <th>11</th>\n",
       "      <td>1687799866</td>\n",
       "      <td>Bowen</td>\n",
       "      <td>14-02-2021</td>\n",
       "      <td>96</td>\n",
       "    </tr>\n",
       "    <tr>\n",
       "      <th>12</th>\n",
       "      <td>1687799867</td>\n",
       "      <td>Saka</td>\n",
       "      <td>19-12-2022</td>\n",
       "      <td>92</td>\n",
       "    </tr>\n",
       "    <tr>\n",
       "      <th>13</th>\n",
       "      <td>1687799868</td>\n",
       "      <td>Watkins</td>\n",
       "      <td>30-01-2021</td>\n",
       "      <td>49</td>\n",
       "    </tr>\n",
       "    <tr>\n",
       "      <th>14</th>\n",
       "      <td>1687799869</td>\n",
       "      <td>Mount</td>\n",
       "      <td>16-09-2022</td>\n",
       "      <td>48</td>\n",
       "    </tr>\n",
       "    <tr>\n",
       "      <th>15</th>\n",
       "      <td>1687799870</td>\n",
       "      <td>Raphael</td>\n",
       "      <td>15-05-2021</td>\n",
       "      <td>50</td>\n",
       "    </tr>\n",
       "    <tr>\n",
       "      <th>16</th>\n",
       "      <td>1687799871</td>\n",
       "      <td>Mahrez</td>\n",
       "      <td>30-10-2021</td>\n",
       "      <td>72</td>\n",
       "    </tr>\n",
       "    <tr>\n",
       "      <th>17</th>\n",
       "      <td>9988776622</td>\n",
       "      <td>Pukki</td>\n",
       "      <td>19-02-2021</td>\n",
       "      <td>93</td>\n",
       "    </tr>\n",
       "    <tr>\n",
       "      <th>18</th>\n",
       "      <td>9988776623</td>\n",
       "      <td>Fernandes</td>\n",
       "      <td>01-03-2022</td>\n",
       "      <td>94</td>\n",
       "    </tr>\n",
       "  </tbody>\n",
       "</table>\n",
       "</div>"
      ],
      "text/plain": [
       "    9988776604      Salah         DOB  85\n",
       "0   9988776605  Heung-Son  21-06-2020  39\n",
       "1   9988776606    Ronaldo  08-05-2020  86\n",
       "2   9988776607       Kane  11-05-2022  57\n",
       "3   9988776608       Mane  17-05-2022  52\n",
       "4   6609998877      Vardy  17-12-2020  54\n",
       "5   6609998878       Jota  06-11-2021  45\n",
       "6   6609998879     Bruyne  26-11-2020  49\n",
       "7   6609998880       Zaha  05-12-2020  88\n",
       "8   6609998881   Sterling  29-10-2020  61\n",
       "9   9988776614      Toney  31-03-2022  71\n",
       "10  9988776615   Maddison  10-03-2020  44\n",
       "11  1687799866      Bowen  14-02-2021  96\n",
       "12  1687799867       Saka  19-12-2022  92\n",
       "13  1687799868    Watkins  30-01-2021  49\n",
       "14  1687799869      Mount  16-09-2022  48\n",
       "15  1687799870    Raphael  15-05-2021  50\n",
       "16  1687799871     Mahrez  30-10-2021  72\n",
       "17  9988776622      Pukki  19-02-2021  93\n",
       "18  9988776623  Fernandes  01-03-2022  94"
      ]
     },
     "execution_count": 61,
     "metadata": {},
     "output_type": "execute_result"
    }
   ],
   "source": [
    "df.rename(columns={'03-10-2020':\"DOB\"},inplace=True)\n",
    "df"
   ]
  },
  {
   "cell_type": "code",
   "execution_count": 62,
   "id": "e4e96bb3",
   "metadata": {},
   "outputs": [],
   "source": [
    "df.rename(columns={'9988776604':'PH.No'},inplace=True)"
   ]
  },
  {
   "cell_type": "code",
   "execution_count": 63,
   "id": "1393b694",
   "metadata": {},
   "outputs": [],
   "source": [
    "df.rename(columns={\"Salah\":'Name'},inplace=True)"
   ]
  },
  {
   "cell_type": "code",
   "execution_count": 64,
   "id": "b0044672",
   "metadata": {},
   "outputs": [],
   "source": [
    "df.rename(columns={'85':'Jersey No.'},inplace=True)"
   ]
  },
  {
   "cell_type": "code",
   "execution_count": 65,
   "id": "7e5f29db",
   "metadata": {},
   "outputs": [
    {
     "data": {
      "text/html": [
       "<div>\n",
       "<style scoped>\n",
       "    .dataframe tbody tr th:only-of-type {\n",
       "        vertical-align: middle;\n",
       "    }\n",
       "\n",
       "    .dataframe tbody tr th {\n",
       "        vertical-align: top;\n",
       "    }\n",
       "\n",
       "    .dataframe thead th {\n",
       "        text-align: right;\n",
       "    }\n",
       "</style>\n",
       "<table border=\"1\" class=\"dataframe\">\n",
       "  <thead>\n",
       "    <tr style=\"text-align: right;\">\n",
       "      <th></th>\n",
       "      <th>PH.No</th>\n",
       "      <th>Name</th>\n",
       "      <th>DOB</th>\n",
       "      <th>Jersey No.</th>\n",
       "    </tr>\n",
       "  </thead>\n",
       "  <tbody>\n",
       "    <tr>\n",
       "      <th>0</th>\n",
       "      <td>9988776605</td>\n",
       "      <td>Heung-Son</td>\n",
       "      <td>21-06-2020</td>\n",
       "      <td>39</td>\n",
       "    </tr>\n",
       "    <tr>\n",
       "      <th>1</th>\n",
       "      <td>9988776606</td>\n",
       "      <td>Ronaldo</td>\n",
       "      <td>08-05-2020</td>\n",
       "      <td>86</td>\n",
       "    </tr>\n",
       "    <tr>\n",
       "      <th>2</th>\n",
       "      <td>9988776607</td>\n",
       "      <td>Kane</td>\n",
       "      <td>11-05-2022</td>\n",
       "      <td>57</td>\n",
       "    </tr>\n",
       "    <tr>\n",
       "      <th>3</th>\n",
       "      <td>9988776608</td>\n",
       "      <td>Mane</td>\n",
       "      <td>17-05-2022</td>\n",
       "      <td>52</td>\n",
       "    </tr>\n",
       "    <tr>\n",
       "      <th>4</th>\n",
       "      <td>6609998877</td>\n",
       "      <td>Vardy</td>\n",
       "      <td>17-12-2020</td>\n",
       "      <td>54</td>\n",
       "    </tr>\n",
       "    <tr>\n",
       "      <th>5</th>\n",
       "      <td>6609998878</td>\n",
       "      <td>Jota</td>\n",
       "      <td>06-11-2021</td>\n",
       "      <td>45</td>\n",
       "    </tr>\n",
       "    <tr>\n",
       "      <th>6</th>\n",
       "      <td>6609998879</td>\n",
       "      <td>Bruyne</td>\n",
       "      <td>26-11-2020</td>\n",
       "      <td>49</td>\n",
       "    </tr>\n",
       "    <tr>\n",
       "      <th>7</th>\n",
       "      <td>6609998880</td>\n",
       "      <td>Zaha</td>\n",
       "      <td>05-12-2020</td>\n",
       "      <td>88</td>\n",
       "    </tr>\n",
       "    <tr>\n",
       "      <th>8</th>\n",
       "      <td>6609998881</td>\n",
       "      <td>Sterling</td>\n",
       "      <td>29-10-2020</td>\n",
       "      <td>61</td>\n",
       "    </tr>\n",
       "    <tr>\n",
       "      <th>9</th>\n",
       "      <td>9988776614</td>\n",
       "      <td>Toney</td>\n",
       "      <td>31-03-2022</td>\n",
       "      <td>71</td>\n",
       "    </tr>\n",
       "    <tr>\n",
       "      <th>10</th>\n",
       "      <td>9988776615</td>\n",
       "      <td>Maddison</td>\n",
       "      <td>10-03-2020</td>\n",
       "      <td>44</td>\n",
       "    </tr>\n",
       "    <tr>\n",
       "      <th>11</th>\n",
       "      <td>1687799866</td>\n",
       "      <td>Bowen</td>\n",
       "      <td>14-02-2021</td>\n",
       "      <td>96</td>\n",
       "    </tr>\n",
       "    <tr>\n",
       "      <th>12</th>\n",
       "      <td>1687799867</td>\n",
       "      <td>Saka</td>\n",
       "      <td>19-12-2022</td>\n",
       "      <td>92</td>\n",
       "    </tr>\n",
       "    <tr>\n",
       "      <th>13</th>\n",
       "      <td>1687799868</td>\n",
       "      <td>Watkins</td>\n",
       "      <td>30-01-2021</td>\n",
       "      <td>49</td>\n",
       "    </tr>\n",
       "    <tr>\n",
       "      <th>14</th>\n",
       "      <td>1687799869</td>\n",
       "      <td>Mount</td>\n",
       "      <td>16-09-2022</td>\n",
       "      <td>48</td>\n",
       "    </tr>\n",
       "    <tr>\n",
       "      <th>15</th>\n",
       "      <td>1687799870</td>\n",
       "      <td>Raphael</td>\n",
       "      <td>15-05-2021</td>\n",
       "      <td>50</td>\n",
       "    </tr>\n",
       "    <tr>\n",
       "      <th>16</th>\n",
       "      <td>1687799871</td>\n",
       "      <td>Mahrez</td>\n",
       "      <td>30-10-2021</td>\n",
       "      <td>72</td>\n",
       "    </tr>\n",
       "    <tr>\n",
       "      <th>17</th>\n",
       "      <td>9988776622</td>\n",
       "      <td>Pukki</td>\n",
       "      <td>19-02-2021</td>\n",
       "      <td>93</td>\n",
       "    </tr>\n",
       "    <tr>\n",
       "      <th>18</th>\n",
       "      <td>9988776623</td>\n",
       "      <td>Fernandes</td>\n",
       "      <td>01-03-2022</td>\n",
       "      <td>94</td>\n",
       "    </tr>\n",
       "  </tbody>\n",
       "</table>\n",
       "</div>"
      ],
      "text/plain": [
       "         PH.No       Name         DOB  Jersey No.\n",
       "0   9988776605  Heung-Son  21-06-2020          39\n",
       "1   9988776606    Ronaldo  08-05-2020          86\n",
       "2   9988776607       Kane  11-05-2022          57\n",
       "3   9988776608       Mane  17-05-2022          52\n",
       "4   6609998877      Vardy  17-12-2020          54\n",
       "5   6609998878       Jota  06-11-2021          45\n",
       "6   6609998879     Bruyne  26-11-2020          49\n",
       "7   6609998880       Zaha  05-12-2020          88\n",
       "8   6609998881   Sterling  29-10-2020          61\n",
       "9   9988776614      Toney  31-03-2022          71\n",
       "10  9988776615   Maddison  10-03-2020          44\n",
       "11  1687799866      Bowen  14-02-2021          96\n",
       "12  1687799867       Saka  19-12-2022          92\n",
       "13  1687799868    Watkins  30-01-2021          49\n",
       "14  1687799869      Mount  16-09-2022          48\n",
       "15  1687799870    Raphael  15-05-2021          50\n",
       "16  1687799871     Mahrez  30-10-2021          72\n",
       "17  9988776622      Pukki  19-02-2021          93\n",
       "18  9988776623  Fernandes  01-03-2022          94"
      ]
     },
     "execution_count": 65,
     "metadata": {},
     "output_type": "execute_result"
    }
   ],
   "source": [
    "df"
   ]
  },
  {
   "cell_type": "code",
   "execution_count": 69,
   "id": "9a25a430",
   "metadata": {},
   "outputs": [],
   "source": [
    "#to know all the attributes in a function use '?'\n",
    "pd.read_csv?\n"
   ]
  },
  {
   "cell_type": "code",
   "execution_count": 75,
   "id": "d474fdbf",
   "metadata": {},
   "outputs": [],
   "source": [
    "#to change the headings of columns= name f(x)\n",
    "df=pd.read_csv('Students_details.csv',sep=',',names=['P.No','Player',\"DOJ\",\"J.No\"])"
   ]
  },
  {
   "cell_type": "code",
   "execution_count": 76,
   "id": "25aaab81",
   "metadata": {},
   "outputs": [
    {
     "data": {
      "text/html": [
       "<div>\n",
       "<style scoped>\n",
       "    .dataframe tbody tr th:only-of-type {\n",
       "        vertical-align: middle;\n",
       "    }\n",
       "\n",
       "    .dataframe tbody tr th {\n",
       "        vertical-align: top;\n",
       "    }\n",
       "\n",
       "    .dataframe thead th {\n",
       "        text-align: right;\n",
       "    }\n",
       "</style>\n",
       "<table border=\"1\" class=\"dataframe\">\n",
       "  <thead>\n",
       "    <tr style=\"text-align: right;\">\n",
       "      <th></th>\n",
       "      <th>P.No</th>\n",
       "      <th>Player</th>\n",
       "      <th>DOJ</th>\n",
       "      <th>J.No</th>\n",
       "    </tr>\n",
       "  </thead>\n",
       "  <tbody>\n",
       "    <tr>\n",
       "      <th>0</th>\n",
       "      <td>9988776604</td>\n",
       "      <td>Salah</td>\n",
       "      <td>03-10-2020</td>\n",
       "      <td>85</td>\n",
       "    </tr>\n",
       "    <tr>\n",
       "      <th>1</th>\n",
       "      <td>9988776605</td>\n",
       "      <td>Heung-Son</td>\n",
       "      <td>21-06-2020</td>\n",
       "      <td>39</td>\n",
       "    </tr>\n",
       "    <tr>\n",
       "      <th>2</th>\n",
       "      <td>9988776606</td>\n",
       "      <td>Ronaldo</td>\n",
       "      <td>08-05-2020</td>\n",
       "      <td>86</td>\n",
       "    </tr>\n",
       "    <tr>\n",
       "      <th>3</th>\n",
       "      <td>9988776607</td>\n",
       "      <td>Kane</td>\n",
       "      <td>11-05-2022</td>\n",
       "      <td>57</td>\n",
       "    </tr>\n",
       "    <tr>\n",
       "      <th>4</th>\n",
       "      <td>9988776608</td>\n",
       "      <td>Mane</td>\n",
       "      <td>17-05-2022</td>\n",
       "      <td>52</td>\n",
       "    </tr>\n",
       "    <tr>\n",
       "      <th>5</th>\n",
       "      <td>6609998877</td>\n",
       "      <td>Vardy</td>\n",
       "      <td>17-12-2020</td>\n",
       "      <td>54</td>\n",
       "    </tr>\n",
       "    <tr>\n",
       "      <th>6</th>\n",
       "      <td>6609998878</td>\n",
       "      <td>Jota</td>\n",
       "      <td>06-11-2021</td>\n",
       "      <td>45</td>\n",
       "    </tr>\n",
       "    <tr>\n",
       "      <th>7</th>\n",
       "      <td>6609998879</td>\n",
       "      <td>Bruyne</td>\n",
       "      <td>26-11-2020</td>\n",
       "      <td>49</td>\n",
       "    </tr>\n",
       "    <tr>\n",
       "      <th>8</th>\n",
       "      <td>6609998880</td>\n",
       "      <td>Zaha</td>\n",
       "      <td>05-12-2020</td>\n",
       "      <td>88</td>\n",
       "    </tr>\n",
       "    <tr>\n",
       "      <th>9</th>\n",
       "      <td>6609998881</td>\n",
       "      <td>Sterling</td>\n",
       "      <td>29-10-2020</td>\n",
       "      <td>61</td>\n",
       "    </tr>\n",
       "    <tr>\n",
       "      <th>10</th>\n",
       "      <td>9988776614</td>\n",
       "      <td>Toney</td>\n",
       "      <td>31-03-2022</td>\n",
       "      <td>71</td>\n",
       "    </tr>\n",
       "    <tr>\n",
       "      <th>11</th>\n",
       "      <td>9988776615</td>\n",
       "      <td>Maddison</td>\n",
       "      <td>10-03-2020</td>\n",
       "      <td>44</td>\n",
       "    </tr>\n",
       "    <tr>\n",
       "      <th>12</th>\n",
       "      <td>1687799866</td>\n",
       "      <td>Bowen</td>\n",
       "      <td>14-02-2021</td>\n",
       "      <td>96</td>\n",
       "    </tr>\n",
       "    <tr>\n",
       "      <th>13</th>\n",
       "      <td>1687799867</td>\n",
       "      <td>Saka</td>\n",
       "      <td>19-12-2022</td>\n",
       "      <td>92</td>\n",
       "    </tr>\n",
       "    <tr>\n",
       "      <th>14</th>\n",
       "      <td>1687799868</td>\n",
       "      <td>Watkins</td>\n",
       "      <td>30-01-2021</td>\n",
       "      <td>49</td>\n",
       "    </tr>\n",
       "    <tr>\n",
       "      <th>15</th>\n",
       "      <td>1687799869</td>\n",
       "      <td>Mount</td>\n",
       "      <td>16-09-2022</td>\n",
       "      <td>48</td>\n",
       "    </tr>\n",
       "    <tr>\n",
       "      <th>16</th>\n",
       "      <td>1687799870</td>\n",
       "      <td>Raphael</td>\n",
       "      <td>15-05-2021</td>\n",
       "      <td>50</td>\n",
       "    </tr>\n",
       "    <tr>\n",
       "      <th>17</th>\n",
       "      <td>1687799871</td>\n",
       "      <td>Mahrez</td>\n",
       "      <td>30-10-2021</td>\n",
       "      <td>72</td>\n",
       "    </tr>\n",
       "    <tr>\n",
       "      <th>18</th>\n",
       "      <td>9988776622</td>\n",
       "      <td>Pukki</td>\n",
       "      <td>19-02-2021</td>\n",
       "      <td>93</td>\n",
       "    </tr>\n",
       "    <tr>\n",
       "      <th>19</th>\n",
       "      <td>9988776623</td>\n",
       "      <td>Fernandes</td>\n",
       "      <td>01-03-2022</td>\n",
       "      <td>94</td>\n",
       "    </tr>\n",
       "  </tbody>\n",
       "</table>\n",
       "</div>"
      ],
      "text/plain": [
       "          P.No     Player         DOJ  J.No\n",
       "0   9988776604      Salah  03-10-2020    85\n",
       "1   9988776605  Heung-Son  21-06-2020    39\n",
       "2   9988776606    Ronaldo  08-05-2020    86\n",
       "3   9988776607       Kane  11-05-2022    57\n",
       "4   9988776608       Mane  17-05-2022    52\n",
       "5   6609998877      Vardy  17-12-2020    54\n",
       "6   6609998878       Jota  06-11-2021    45\n",
       "7   6609998879     Bruyne  26-11-2020    49\n",
       "8   6609998880       Zaha  05-12-2020    88\n",
       "9   6609998881   Sterling  29-10-2020    61\n",
       "10  9988776614      Toney  31-03-2022    71\n",
       "11  9988776615   Maddison  10-03-2020    44\n",
       "12  1687799866      Bowen  14-02-2021    96\n",
       "13  1687799867       Saka  19-12-2022    92\n",
       "14  1687799868    Watkins  30-01-2021    49\n",
       "15  1687799869      Mount  16-09-2022    48\n",
       "16  1687799870    Raphael  15-05-2021    50\n",
       "17  1687799871     Mahrez  30-10-2021    72\n",
       "18  9988776622      Pukki  19-02-2021    93\n",
       "19  9988776623  Fernandes  01-03-2022    94"
      ]
     },
     "execution_count": 76,
     "metadata": {},
     "output_type": "execute_result"
    }
   ],
   "source": [
    "df"
   ]
  },
  {
   "cell_type": "code",
   "execution_count": 78,
   "id": "3517ad94",
   "metadata": {},
   "outputs": [],
   "source": [
    "#to load the file with pandas\n",
    "df.to_csv('students_details_pd.csv')"
   ]
  },
  {
   "cell_type": "code",
   "execution_count": 82,
   "id": "52dbb662",
   "metadata": {},
   "outputs": [
    {
     "data": {
      "text/plain": [
       "<AxesSubplot:>"
      ]
     },
     "execution_count": 82,
     "metadata": {},
     "output_type": "execute_result"
    },
    {
     "data": {
      "image/png": "[encoded data removed]",
      "text/plain": [
       "<Figure size 640x480 with 1 Axes>"
      ]
     },
     "metadata": {},
     "output_type": "display_data"
    }
   ],
   "source": [
    "#plotting graphs\n",
    "df['J.No'].plot.barh()"
   ]
  },
  {
   "cell_type": "code",
   "execution_count": null,
   "id": "7105da60",
   "metadata": {},
   "outputs": [],
   "source": []
  }
 ],
 "metadata": {
  "kernelspec": {
   "display_name": "Python 3 (ipykernel)",
   "language": "python",
   "name": "python3"
  },
  "language_info": {
   "codemirror_mode": {
    "name": "ipython",
    "version": 3
   },
   "file_extension": ".py",
   "mimetype": "text/x-python",
   "name": "python",
   "nbconvert_exporter": "python",
   "pygments_lexer": "ipython3",
   "version": "3.9.13"
  }
 },
 "nbformat": 4,
 "nbformat_minor": 5
}
